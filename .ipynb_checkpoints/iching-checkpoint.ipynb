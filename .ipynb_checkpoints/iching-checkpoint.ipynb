{
 "cells": [
  {
   "cell_type": "markdown",
   "metadata": {},
   "source": [
    "# 蓍草卜卦 "
   ]
  },
  {
   "cell_type": "markdown",
   "metadata": {},
   "source": [
    "大衍之数五十，其用四十有九。分而为二以象两，挂一以象三，揲之以四以象四时，归奇于扐以象闰。五岁再闰，故再扐而后挂。天一，地二；天三，地四；天五，地六；天七，地八；天九，地十。天数五，地数五。五位相得而各有合，天数二十有五，地数三十，凡天地之数五十有五，此所以成变化而行鬼神也。乾之策二百一十有六，坤之策百四十有四，凡三百六十，当期之日。二篇之策，万有一千五百二十，当万物之数也。是故四营而成《易》，十有八变而成卦，八卦而小成。引而伸之，触类而长之，天下之能事毕矣。显道神德行，是故可与酬酢，可与祐神矣。子曰：“知变化之道者，其知神之所为乎。”\n",
    "\n",
    "大衍之数五十，存一不用，构造天地人三者，历经三变，第一次的余数是5或9，第二次的是4或8，第三次的是4或8，剩下的数量除以4就是结果。即为一爻，算六爻要一个小时。古人构造随机数的方法太费时间啦。用Python写个程序来搞吧！"
   ]
  },
  {
   "cell_type": "code",
   "execution_count": 1,
   "metadata": {
    "ExecuteTime": {
     "end_time": "2023-10-08T10:44:48.096386Z",
     "start_time": "2023-10-08T10:44:48.088644Z"
    }
   },
   "outputs": [],
   "source": [
    "import random"
   ]
  },
  {
   "cell_type": "code",
   "execution_count": 4,
   "metadata": {
    "ExecuteTime": {
     "end_time": "2023-10-08T10:45:42.129860Z",
     "start_time": "2023-10-08T10:45:42.104064Z"
    }
   },
   "outputs": [],
   "source": [
    "def sepSkyEarth(data):\n",
    "    sky =  random.randint(1, data-2)  \n",
    "    earth = data - sky\n",
    "    earth -= 1\n",
    "    return sky , earth\n",
    "\n",
    "\n",
    "def getRemainder(num):\n",
    "    rm = num % 4\n",
    "    if rm == 0:\n",
    "        rm = 4\n",
    "    return rm\n",
    "\n",
    "def getChange(data):\n",
    "    sky, earth = sepSkyEarth(data)\n",
    "    skyRemainder = getRemainder(sky)\n",
    "    earthRemainder = getRemainder(earth)\n",
    "    change = skyRemainder + earthRemainder + 1\n",
    "    data = data - change\n",
    "    return sky, earth, change, data\n",
    "\n",
    "def getYao(data):\n",
    "    sky, earth, firstChange, data = getChange(data)\n",
    "    sky, earth, secondChange, data = getChange(data)\n",
    "    sky, earth, thirdChange, data = getChange(data)\n",
    "    yao  = int(data/4)\n",
    "    return yao, firstChange, secondChange, thirdChange\n",
    "\n",
    "def sixYao():\n",
    "    yao1 = getYao(data = 50 - 1)[0]\n",
    "    yao2 = getYao(data = 50 - 1)[0]\n",
    "    yao3 = getYao(data = 50 - 1)[0]\n",
    "    yao4 = getYao(data = 50 - 1)[0]\n",
    "    yao5 = getYao(data = 50 - 1)[0]\n",
    "    yao6 = getYao(data = 50 - 1)[0]\n",
    "    return[yao1, yao2, yao3, yao4, yao5, yao6]\n",
    "\n",
    "def fixYao(num):\n",
    "    if num == 6 or num == 9:\n",
    "        print(\"there is a changing predict! Also run changePredict()\")\n",
    "    return num % 2\n",
    "    \n",
    "\n",
    "def changeYao(num):\n",
    "    if num == 6:\n",
    "        num = 1\n",
    "    elif num == 9:\n",
    "        num = 2\n",
    "    num = num % 2\n",
    "    return(num)\n",
    "\n",
    "def fixPredict(pred):\n",
    "    fixprd = [fixYao(i) for i in pred]\n",
    "    fixprd = list2str(fixprd)\n",
    "    return fixprd\n",
    "\n",
    "def list2str(l):\n",
    "    si = ''\n",
    "    for i in l:\n",
    "        si = si +  str(i)\n",
    "    return si\n",
    "\n",
    "def changePredict(pred):\n",
    "    changeprd = [changeYao(i) for i in pred]\n",
    "    changeprd = list2str(changeprd)\n",
    "    return changeprd\n",
    "\n",
    "def getPredict():\n",
    "    pred = sixYao()\n",
    "    fixPred = fixPredict(pred)\n",
    "    if 6 in pred or 9 in pred:\n",
    "        changePred = changePredict(pred)\n",
    "    else:\n",
    "        changePred = None\n",
    "    return fixPred, changePred  \n",
    "\n",
    "def interpretPredict(now, future):\n",
    "    dt = {'111111':'乾','011111':'夬','000000':'坤','010001':'屯','100010':'蒙','010111':'需','111010':'讼','000010':'师',\n",
    "'010000':'比','110111':'小畜','111011':'履','000111':'泰','111000':'否','111101':'同人','101111':'大有','000100':'谦',\n",
    "'001000':'豫','011001':'随','100110':'蛊','000011':'临','110000':'观','101001':'噬嗑','100101':'贲','100000':'剥',\n",
    "'000001':'复','111001':'无妄','100111':'大畜','100001':'颐','011110':'大过','010010':'坎','101101':'离','011100':'咸',\n",
    "'001110':'恒','111100':'遁','001111':'大壮','101000':'晋','000101':'明夷','110101':'家人','101011':'睽','010100':'蹇',\n",
    "'001010':'解','100011':'损','110001':'益','111110':'姤','011000':'萃','000110':'升','011010':'困','010110':'井',\n",
    "'011101':'革','101110':'鼎','001001':'震','100100':'艮','110100':'渐','001011':'归妹','001101':'丰','101100':'旅',\n",
    "'110110':'巽','011011':'兑','110010':'涣','010011':'节','110011':'中孚','001100':'小过','010101':'既济','101010':'未济'}\n",
    "    if future:\n",
    "        name = dt[now] + ' & ' + dt[future]\n",
    "    else:\n",
    "        name = dt[now]\n",
    "    print(name)\n",
    " \n",
    "\n",
    "\n",
    "def plotTransitionRemainder(N, w):\n",
    "    import matplotlib.cm as cm\n",
    "    import matplotlib.pyplot as plt\n",
    "    from collections import defaultdict\n",
    "    \n",
    "    changes = {}\n",
    "    for i in range(N):\n",
    "        sky, earth, firstChange, data = getChange(data = 50 -1)\n",
    "        sky, earth, secondChange, data = getChange(data)\n",
    "        sky, earth, thirdChange, data = getChange(data)\n",
    "        changes[i]=[firstChange, secondChange, thirdChange, data/4]\n",
    "\n",
    "    ichanges = changes.values()\n",
    "\n",
    "    firstTransition = defaultdict(int)\n",
    "    for i in ichanges:\n",
    "        firstTransition[i[0], i[1]]+=1\n",
    "\n",
    "    secondTransition = defaultdict(int)\n",
    "    for i in ichanges:\n",
    "        secondTransition[i[1], i[2]]+=1\n",
    "\n",
    "    thirdTransition = defaultdict(int)\n",
    "    for i in ichanges:\n",
    "        thirdTransition[i[2], i[3]]+=1    \n",
    "        \n",
    "    cmap = cm.get_cmap('Accent_r', len(ichanges))\n",
    "\n",
    "    for k, v in firstTransition.iteritems(): \n",
    "        plt.plot([1, 2], k, linewidth = v*w/N)\n",
    "    for k, v in secondTransition.iteritems(): \n",
    "        plt.plot([2, 3], k, linewidth = v*w/N)\n",
    "    for k, v in thirdTransition.iteritems(): \n",
    "        plt.plot([3, 4], k, linewidth = v*w/N)\n",
    "    plt.xlabel(u'Time')\n",
    "    plt.ylabel(u'Changes')\n"
   ]
  },
  {
   "cell_type": "markdown",
   "metadata": {},
   "source": [
    "## 大衍之数五十，存一不用"
   ]
  },
  {
   "cell_type": "code",
   "execution_count": 5,
   "metadata": {
    "ExecuteTime": {
     "end_time": "2023-10-08T10:45:49.415975Z",
     "start_time": "2023-10-08T10:45:49.413558Z"
    }
   },
   "outputs": [],
   "source": [
    "data = 50 - 1"
   ]
  },
  {
   "cell_type": "markdown",
   "metadata": {},
   "source": [
    "### 一变"
   ]
  },
  {
   "cell_type": "code",
   "execution_count": 6,
   "metadata": {
    "ExecuteTime": {
     "end_time": "2023-10-08T10:46:02.043890Z",
     "start_time": "2023-10-08T10:46:02.039756Z"
    }
   },
   "outputs": [
    {
     "name": "stdout",
     "output_type": "stream",
     "text": [
      "41 \n",
      " 7 \n",
      " 5 \n",
      " 44\n"
     ]
    }
   ],
   "source": [
    "sky, earth, firstChange, data = getChange(data)\n",
    "print(sky, '\\n', earth, '\\n',firstChange, '\\n', data)"
   ]
  },
  {
   "cell_type": "markdown",
   "metadata": {},
   "source": [
    "### 二变"
   ]
  },
  {
   "cell_type": "code",
   "execution_count": 7,
   "metadata": {
    "ExecuteTime": {
     "end_time": "2023-10-08T10:46:13.145120Z",
     "start_time": "2023-10-08T10:46:13.142097Z"
    }
   },
   "outputs": [
    {
     "name": "stdout",
     "output_type": "stream",
     "text": [
      "32 \n",
      " 11 \n",
      " 8 \n",
      " 36\n"
     ]
    }
   ],
   "source": [
    "sky, earth, secondChange, data = getChange(data)\n",
    "print(sky, '\\n', earth, '\\n',secondChange, '\\n', data)"
   ]
  },
  {
   "cell_type": "markdown",
   "metadata": {},
   "source": [
    "### 三变"
   ]
  },
  {
   "cell_type": "code",
   "execution_count": 8,
   "metadata": {
    "ExecuteTime": {
     "end_time": "2023-10-08T10:46:21.664273Z",
     "start_time": "2023-10-08T10:46:21.661199Z"
    }
   },
   "outputs": [
    {
     "name": "stdout",
     "output_type": "stream",
     "text": [
      "33 \n",
      " 2 \n",
      " 4 \n",
      " 32\n"
     ]
    }
   ],
   "source": [
    "sky, earth, thirdChange, data = getChange(data)\n",
    "print(sky, '\\n', earth, '\\n',thirdChange, '\\n', data)"
   ]
  },
  {
   "cell_type": "markdown",
   "metadata": {},
   "source": [
    "## 得到六爻及变卦"
   ]
  },
  {
   "cell_type": "code",
   "execution_count": 9,
   "metadata": {
    "ExecuteTime": {
     "end_time": "2023-10-08T10:46:29.226371Z",
     "start_time": "2023-10-08T10:46:29.214992Z"
    }
   },
   "outputs": [
    {
     "name": "stdout",
     "output_type": "stream",
     "text": [
      "there is a changing predict! Also run changePredict()\n",
      "there is a changing predict! Also run changePredict()\n",
      "there is a changing predict! Also run changePredict()\n"
     ]
    },
    {
     "data": {
      "text/plain": [
       "('110011', '010101')"
      ]
     },
     "execution_count": 9,
     "metadata": {},
     "output_type": "execute_result"
    }
   ],
   "source": [
    "getPredict()"
   ]
  },
  {
   "cell_type": "code",
   "execution_count": 10,
   "metadata": {
    "ExecuteTime": {
     "end_time": "2023-10-08T10:46:31.633211Z",
     "start_time": "2023-10-08T10:46:31.628865Z"
    }
   },
   "outputs": [
    {
     "name": "stdout",
     "output_type": "stream",
     "text": [
      "there is a changing predict! Also run changePredict()\n",
      "there is a changing predict! Also run changePredict()\n"
     ]
    },
    {
     "data": {
      "text/plain": [
       "('101101', '100100')"
      ]
     },
     "execution_count": 10,
     "metadata": {},
     "output_type": "execute_result"
    }
   ],
   "source": [
    "getPredict()"
   ]
  },
  {
   "cell_type": "code",
   "execution_count": 11,
   "metadata": {
    "ExecuteTime": {
     "end_time": "2023-10-08T10:46:32.329029Z",
     "start_time": "2023-10-08T10:46:32.324397Z"
    }
   },
   "outputs": [
    {
     "name": "stdout",
     "output_type": "stream",
     "text": [
      "there is a changing predict! Also run changePredict()\n",
      "there is a changing predict! Also run changePredict()\n"
     ]
    },
    {
     "data": {
      "text/plain": [
       "('011101', '010100')"
      ]
     },
     "execution_count": 11,
     "metadata": {},
     "output_type": "execute_result"
    }
   ],
   "source": [
    "getPredict()"
   ]
  },
  {
   "cell_type": "markdown",
   "metadata": {},
   "source": [
    "## 得到卦名"
   ]
  },
  {
   "cell_type": "code",
   "execution_count": 232,
   "metadata": {},
   "outputs": [
    {
     "name": "stdout",
     "output_type": "stream",
     "text": [
      "there is a changing predict! Also run changePredict()\n",
      "屯 & 比\n"
     ]
    }
   ],
   "source": [
    "fixPred, changePred   = getPredict()\n",
    "interpretPredict(fixPred, changePred  )"
   ]
  },
  {
   "cell_type": "markdown",
   "metadata": {},
   "source": [
    "## 添加卦辞"
   ]
  },
  {
   "cell_type": "markdown",
   "metadata": {
    "ExecuteTime": {
     "end_time": "2023-10-08T10:47:34.627764Z",
     "start_time": "2023-10-08T10:47:34.620752Z"
    }
   },
   "source": [
    "```\n",
    "#http://baike.fututa.com/zhouyi64gua/\n",
    "\n",
    "import urllib2\n",
    "from bs4 import BeautifulSoup\n",
    "import os\n",
    "\n",
    "# set work directory\n",
    "os.chdir('/Users/chengjun/github/iching/')\n",
    "\n",
    "dt = {'111111':'乾','011111':'夬','000000':'坤','010001':'屯','100010':'蒙','010111':'需','111010':'讼','000010':'师',\n",
    "    '010000':'比','110111':'小畜','111011':'履','000111':'泰','111000':'否','111101':'同人','10111':'大有','000100':'谦',\n",
    "    '001000':'豫','011001':'随','100110':'蛊','000011':'临','110000':'观','101001':'噬嗑','100101':'贲','100000':'剥',\n",
    "    '000001':'复','111001':'无妄','100111':'大畜','100001':'颐','011110':'大过','010010':'坎','101101':'离','011100':'咸',\n",
    "    '001110':'恒','111100':'遁','001111':'大壮','101000':'晋','000101':'明夷','110101':'家人','101011':'睽','010100':'蹇',\n",
    "    '001010':'解','100011':'损','110001':'益','111110':'姤','011000':'萃','000110':'升','011010':'困','010110':'井',\n",
    "    '011101':'革','101110':'鼎','001001':'震','100100':'艮','110100':'渐','001011':'归妹','001101':'丰','101100':'旅',\n",
    "    '110110':'巽','011011':'兑','110010':'涣','010011':'节','110011':'中孚','001100':'小过','010101':'既济','101010':'未济'}\n",
    "\n",
    "\n",
    "dr = {}\n",
    "for i, j in dt.iteritems():\n",
    "    dr[unicode(j, 'utf8')]= i\n",
    "```"
   ]
  },
  {
   "cell_type": "code",
   "execution_count": 60,
   "metadata": {},
   "outputs": [],
   "source": [
    "url = \"http://baike.fututa.com/zhouyi64gua/\"\n",
    "content = urllib2.urlopen(url).read() #获取网页的html文本\n",
    "soup = BeautifulSoup(content) \n",
    "articles = soup.find_all('div', {'class', 'gualist'})[0].find_all('a')\n",
    "links = [i['href'] for i in articles]"
   ]
  },
  {
   "cell_type": "code",
   "execution_count": 61,
   "metadata": {},
   "outputs": [
    {
     "data": {
      "text/plain": [
       "[u'http://baike.fututa.com/a5738', u'http://baike.fututa.com/a5739']"
      ]
     },
     "execution_count": 61,
     "metadata": {},
     "output_type": "execute_result"
    }
   ],
   "source": [
    "links[:2]"
   ]
  },
  {
   "cell_type": "code",
   "execution_count": 64,
   "metadata": {},
   "outputs": [
    {
     "name": "stdout",
     "output_type": "stream",
     "text": [
      "http://baike.fututa.com/a5738 1\n",
      "http://baike.fututa.com/a5739 2\n",
      "http://baike.fututa.com/a5740 3\n",
      "http://baike.fututa.com/a5741 4\n",
      "http://baike.fututa.com/a5742 5\n",
      "http://baike.fututa.com/a5743 6\n",
      "http://baike.fututa.com/a5744 7\n",
      "http://baike.fututa.com/a5745 8\n",
      "http://baike.fututa.com/a5746 9\n",
      "http://baike.fututa.com/a5747 10\n",
      "http://baike.fututa.com/a5748 11\n",
      "http://baike.fututa.com/a5749 12\n",
      "http://baike.fututa.com/a5750 13\n",
      "http://baike.fututa.com/a5751 14\n",
      "http://baike.fututa.com/a5752 15\n",
      "http://baike.fututa.com/a5753 16\n",
      "http://baike.fututa.com/a5754 17\n",
      "http://baike.fututa.com/a5755 18\n",
      "http://baike.fututa.com/a5756 19\n",
      "http://baike.fututa.com/a5757 20\n",
      "http://baike.fututa.com/a5758 21\n",
      "http://baike.fututa.com/a5759 22\n",
      "http://baike.fututa.com/a5760 23\n",
      "http://baike.fututa.com/a5761 24\n",
      "http://baike.fututa.com/a5762 25\n",
      "http://baike.fututa.com/a5763 26\n",
      "http://baike.fututa.com/a5764 27\n",
      "http://baike.fututa.com/a5765 28\n",
      "http://baike.fututa.com/a5766 29\n",
      "http://baike.fututa.com/a5767 30\n",
      "http://baike.fututa.com/a5768 31\n",
      "http://baike.fututa.com/a5769 32\n",
      "http://baike.fututa.com/a5770 33\n",
      "http://baike.fututa.com/a5771 34\n",
      "http://baike.fututa.com/a5772 35\n",
      "http://baike.fututa.com/a5773 36\n",
      "http://baike.fututa.com/a5774 37\n",
      "http://baike.fututa.com/a5775 38\n",
      "http://baike.fututa.com/a5776 39\n",
      "http://baike.fututa.com/a5777 40\n",
      "http://baike.fututa.com/a5778 41\n",
      "http://baike.fututa.com/a5779 42\n",
      "http://baike.fututa.com/a5780 43\n",
      "http://baike.fututa.com/a5781 44\n",
      "http://baike.fututa.com/a5782 45\n",
      "http://baike.fututa.com/a5783 46\n",
      "http://baike.fututa.com/a5784 47\n",
      "http://baike.fututa.com/a5785 48\n",
      "http://baike.fututa.com/a5786 49\n",
      "http://baike.fututa.com/a5787 50\n",
      "http://baike.fututa.com/a5788 51\n",
      "http://baike.fututa.com/a5789 52\n",
      "http://baike.fututa.com/a5790 53\n",
      "http://baike.fututa.com/a5791 54\n",
      "http://baike.fututa.com/a5792 55\n",
      "http://baike.fututa.com/a5793 56\n",
      "http://baike.fututa.com/a5794 57\n",
      "http://baike.fututa.com/a5795 58\n",
      "http://baike.fututa.com/a5796 59\n",
      "http://baike.fututa.com/a5797 60\n",
      "http://baike.fututa.com/a5798 61\n",
      "http://baike.fututa.com/a5799 62\n",
      "http://baike.fututa.com/a5800 63\n",
      "http://baike.fututa.com/a5801 64\n"
     ]
    }
   ],
   "source": [
    "dtext = {}\n",
    "\n",
    "from time import sleep\n",
    "\n",
    "num = 0\n",
    "for j in links:\n",
    "    sleep(0.1)\n",
    "    num += 1\n",
    "    ghtml = urllib2.urlopen(j).read() #获取网页的html文本\n",
    "    print j, num\n",
    "    gua = BeautifulSoup(ghtml, from_encoding = 'gb18030') \n",
    "    guaName =  gua.title.text.split('_')[1].split(u'卦')[0]\n",
    "    guaId = dr[guaName]\n",
    "    guawen = gua.find_all('div', {'class', 'gua_wen'})\n",
    "    guaText = []\n",
    "    for i in guawen:\n",
    "        guaText.append(i.get_text() + '\\n\\n')\n",
    "    guaText = ''.join(guaText)\n",
    "    dtext[guaId] = guaText"
   ]
  },
  {
   "cell_type": "code",
   "execution_count": 67,
   "metadata": {},
   "outputs": [],
   "source": [
    "dtextu = {}\n",
    "for i, j in dtext.iteritems():\n",
    "    dtextu[i]= j.encode('utf-8')"
   ]
  },
  {
   "cell_type": "code",
   "execution_count": 75,
   "metadata": {},
   "outputs": [
    {
     "data": {
      "text/plain": [
       "u'\\u89c2\\u5366\\u539f\\u6587\\u89c2\\u3002\\u76e5\\u800c\\u4e0d\\u8350\\uff0c\\u6709\\u5b5a\\u9852\\u82e5\\u3002\\u8c61\\u66f0\\uff1a\\u98ce\\u884c\\u5730\\u4e0a\\uff0c\\u89c2\\u3002\\u5148\\u738b\\u4ee5\\u7701\\u65b9\\uff0c\\u89c2\\u6c11\\u8bbe\\u6559\\u3002\\u767d\\u8bdd\\u6587\\u89e3\\u91ca\\u89c2\\u5366\\uff1a\\u796d\\u7940\\u65f6\\u704c\\u9152\\u964d\\u795e\\u800c\\u4e0d\\u732e\\u4eba\\u7272\\uff0c\\u56e0\\u4e3a\\u7528\\u4f5c\\u796d\\u7940\\u7684\\u4fd8\\u864f\\u7684\\u5934\\u90e8\\u80bf\\u4e86\\uff0c\\u4e0d\\u80fd\\u7528\\u4f5c\\u796d\\u54c1\\u3002\\u300a\\u8c61\\u8f9e\\u300b\\u8bf4\\uff1a\\u672c\\u5366\\u4e0a\\u5366\\u4e3a\\u5dfd\\u4e3a\\u98ce\\uff0c\\u4e0b\\u5366\\u4e3a\\u5764\\u4e3a\\u5730\\uff0c\\u98ce\\u884c\\u5927\\u5730\\u5439\\u62c2\\u4e07\\u7269\\uff0c\\u8fd9\\u662f\\u89c2\\u7684\\u5366\\u8c61\\u3002\\u5148\\u738b\\u89c2\\u6b64\\u5366\\u8c61\\u53d6\\u6cd5\\u4e8e\\u5468\\u6d41\\u516b\\u65b9\\u7684\\u98ce\\uff0c\\u4ece\\u800c\\u5de1\\u89c6\\u90a6\\u56fd\\uff0c\\u89c2\\u5bdf\\u6c11\\u60c5\\uff0c\\u63a8\\u884c\\u6559\\u5316\\u3002\\n\\n\\u300a\\u65ad\\u6613\\u5929\\u673a\\u300b\\u89e3\\u89c2\\u5366\\u5dfd\\u4e0a\\u5764\\u4e0b\\uff0c\\u4e3a\\u4e7e\\u5bab\\u56db\\u4e16\\u5366\\u3002\\u89c2\\u5366\\u8c61\\u5f81\\u5c06\\u9053\\u4e49\\u5c55\\u793a\\u4e8e\\u4f17\\u4eba\\u9762\\u524d\\u3002\\u89c2\\u5366\\u98ce\\u5728\\u4e0a\\u800c\\u5730\\u5728\\u4e0b\\uff0c\\u662f\\u6625\\u98ce\\u6d69\\u8361\\u3001\\u4e07\\u7269\\u6ecb\\u751f\\u4e4b\\u8c61\\u3002\\n\\n\\u5317\\u5b8b\\u6613\\u5b66\\u5bb6\\u90b5\\u96cd\\u89e3\\u4ee5\\u4e0b\\u89c2\\u4e0a\\uff0c\\u5468\\u6e38\\u89c2\\u89c8\\uff1b\\u5e73\\u5fc3\\u9759\\u6c14\\uff0c\\u575a\\u5b88\\u5c97\\u4f4d\\u3002\\u5f97\\u6b64\\u5366\\u8005\\uff0c\\u5904\\u8eab\\u4e8e\\u53d8\\u5316\\u4e4b\\u4e2d\\uff0c\\u5fc3\\u795e\\u4e0d\\u5b81\\uff0c\\u5b9c\\u591a\\u89c2\\u5bdf\\u5165\\u5fae\\uff0c\\u5f85\\u673a\\u884c\\u4e8b\\uff0c\\u5207\\u52ff\\u5984\\u8fdb\\u3002\\n\\n\\u53f0\\u6e7e\\u56fd\\u5b66\\u5927\\u5112\\u5085\\u4f69\\u8363\\u89e3\\u65f6\\u8fd0\\uff1a\\u51fa\\u5916\\u6e38\\u89c8\\uff0c\\u4e0d\\u6613\\u95f2\\u5c45\\u3002\\u8d22\\u8fd0\\uff1a\\u8d29\\u5356\\u6d0b\\u8d27\\uff0c\\u987b\\u9632\\u98ce\\u9669\\u3002\\u5bb6\\u5b85\\uff1a\\u4f9b\\u517b\\u795e\\u4f5b\\u3002\\u8eab\\u4f53\\uff1a\\u98ce\\u6e7f\\u4e4b\\u75c7\\uff0c\\u8fd0\\u52a8\\u8c03\\u517b\\u3002\\n\\n\\u4f20\\u7edf\\u89e3\\u5366\\u8fd9\\u4e2a\\u5366\\u662f\\u5f02\\u5366\\uff08\\u4e0b\\u5764\\u4e0a\\u5dfd\\uff09\\u76f8\\u53e0\\uff0c\\u98ce\\u884c\\u5730\\u4e0a\\uff0c\\u55bb\\u5fb7\\u6559\\u904d\\u65bd\\u3002\\u89c2\\u5366\\u4e0e\\u4e34\\u5366\\u4e92\\u4e3a\\u7efc\\u5366\\uff0c\\u4ea4\\u76f8\\u4f7f\\u7528\\u3002\\u5728\\u4e0a\\u8005\\u4ee5\\u9053\\u4e49\\u89c2\\u5929\\u4e0b\\uff1b\\u5728\\u4e0b\\u8005\\u4ee5\\u656c\\u4ef0\\u77bb\\u4e0a\\uff0c\\u4eba\\u5fc3\\u987a\\u670d\\u5f52\\u4ece\\u3002\\u5927\\u8c61\\uff1a\\u98ce\\u8fd0\\u884c\\u4e8e\\u5764\\u5730\\u4e4b\\u4e0a\\uff0c\\u55bb\\u6709\\u5468\\u6e38\\u89c2\\u89c8\\u4e4b\\u610f\\u3002\\u9634\\u957f\\u9633\\u6d88\\uff0c\\u6b63\\u9053\\u8870\\u5fae\\uff0c\\u4e07\\u7269\\u96be\\u884c\\u3002\\u8fd0\\u52bf\\uff1a\\u5904\\u8eab\\u4e8e\\u53d8\\u5316\\u4e4b\\u4e2d\\uff0c\\u5b9c\\u591a\\u89c2\\u5bdf\\u5165\\u5fae\\uff0c\\u5fc3\\u8eab\\u82e6\\u607c\\uff0c\\u5e76\\u9632\\u5916\\u6765\\u8bf1\\u60d1\\u3002\\u4e8b\\u4e1a\\uff1a\\u4e8b\\u4e1a\\u5df2\\u51fa\\u73b0\\u4e0d\\u987a\\u5229\\u7684\\u8ff9\\u8c61\\uff0c\\u52a1\\u5fc5\\u8c26\\u865a\\u614e\\u91cd\\uff0c\\u9ad8\\u77bb\\u8fdc\\u77a9\\uff0c\\u5c24\\u5fcc\\u77ed\\u671f\\u884c\\u4e3a\\uff0c\\u5fc3\\u80f8\\u5f00\\u9614\\uff0c\\u6ce8\\u610f\\u641e\\u597d\\u4eba\\u9645\\u5173\\u7cfb\\uff0c\\u56e2\\u7ed3\\u4ed6\\u4eba\\uff0c\\u4e0d\\u5b9c\\u8f7b\\u7387\\u884c\\u52a8\\u3002\\u5fc5\\u8981\\u65f6\\u4e0d\\u59a8\\u6295\\u9760\\u5fb7\\u884c\\u9ad8\\u7684\\u4eba\\uff0c\\u4ee5\\u56fe\\u518d\\u5ea6\\u53d1\\u5c55\\u3002\\u7ecf\\u5546\\uff1a\\u5e02\\u573a\\u5f62\\u52bf\\u4e0d\\u7a33\\u5b9a\\uff0c\\u6b63\\u5904\\u4e8e\\u53d8\\u52a8\\uff0c\\u5e94\\u8c28\\u614e\\u5c0f\\u5fc3\\uff0c\\u968f\\u65f6\\u89c2\\u5bdf\\u52a8\\u5411\\uff0c\\u4ece\\u957f\\u8ba1\\u8bae\\uff0c\\u505a\\u597d\\u9000\\u5374\\u7684\\u51c6\\u5907\\u3002\\u6c42\\u540d\\uff1a\\u8d35\\u5728\\u81ea\\u77e5\\u4e4b\\u660e\\uff0c\\u865a\\u5fc3\\u5411\\u4ed6\\u4eba\\u6c42\\u6559\\uff0c\\u7aef\\u6b63\\u5904\\u4e16\\u6001\\u5ea6\\uff0c\\u5c24\\u5176\\u4e0d\\u53ef\\u81ea\\u6211\\u6ee1\\u8db3\\uff0c\\u66f4\\u987b\\u5b88\\u4e2d\\u6301\\u6b63\\uff0c\\u6811\\u7acb\\u8fdc\\u5927\\u7406\\u60f3\\uff0c\\u52ff\\u4e27\\u5931\\u4e2a\\u4eba\\u8ffd\\u6c42\\u7684\\u76ee\\u6807\\uff0c\\u52ff\\u504f\\u79bb\\u6b63\\u9053\\u3002\\u5a5a\\u604b\\uff1a\\u4e0d\\u987a\\u5229\\uff0c\\u53cc\\u65b9\\u5e94\\u7ecf\\u53d7\\u4f4f\\u8003\\u9a8c\\uff0c\\u4ece\\u957f\\u8ba1\\u8bae\\uff0c\\u4f1a\\u6709\\u7406\\u60f3\\u7684\\u7ed3\\u679c\\u3002\\u51b3\\u7b56\\uff1a\\u5177\\u6709\\u7ec4\\u7ec7\\u80fd\\u529b\\uff0c\\u9002\\u5b9c\\u62c5\\u4efb\\u8d1f\\u8d23\\u5de5\\u4f5c\\uff0c\\u4f46\\u4eba\\u751f\\u65c5\\u9014\\u591a\\u66f2\\u6298\\uff0c\\u5fc5\\u987b\\u6ce8\\u610f\\u57f9\\u517b\\u81ea\\u5df1\\u7684\\u9884\\u89c1\\u6027\\u548c\\u89c2\\u5bdf\\u529b\\uff0c\\u529e\\u4e8b\\u52a1\\u5fc5\\u516c\\u6b63\\uff0c\\u5b9e\\u4e8b\\u6c42\\u662f\\uff0c\\u6ce8\\u610f\\u4eba\\u5fc3\\u52a8\\u5411\\uff0c\\u5173\\u5fc3\\u4ed6\\u4eba\\u3002\\u5c24\\u5176\\u4e0d\\u53ef\\u4ee5\\u9677\\u5165\\u5c0f\\u4eba\\u4e4b\\u9053\\u548c\\u8fd1\\u89c6\\u884c\\u4e3a\\u4e4b\\u4e2d\\u3002\\u5e94\\u6709\\u51b3\\u65ad\\u7cbe\\u795e\\uff0c\\u4e0d\\u53ef\\u76f2\\u4ece\\uff0c\\u5fc5\\u8981\\u65f6\\u53ef\\u8fdb\\u884c\\u7b56\\u7565\\u4f9d\\u9644\\u3002\\n\\n\\u53f0\\u6e7e\\u5f20\\u94ed\\u4ec1\\u89e3\\u5366\\u89c2\\uff1a\\u8868\\u793a\\u89c2\\u5bdf\\u3001\\u89c2\\u770b\\uff0c\\u662f\\u4e2a\\u6700\\u6807\\u51c6\\u7684\\u72b6\\u51b5\\u5366\\uff0c\\u5409\\u51f6\\u672a\\u5b9a\\u3002\\u51e1\\u4e8b\\u4e0d\\u53ef\\u8f7b\\u4e0b\\u51b3\\u5b9a\\uff0c\\u9700\\u8981\\u518d\\u89c2\\u5bdf\\u4e00\\u4e0b\\u5c40\\u52bf\\u518d\\u505a\\u6253\\u7b97\\u3002\\u5c24\\u5176\\u662f\\u5bf9\\u957f\\u5b98\\u3001\\u4e0a\\u4f4d\\u8005\\u7684\\u6001\\u5ea6\\u66f4\\u662f\\u8981\\u5bdf\\u8a00\\u89c2\\u8272\\uff0c\\u4e0d\\u53ef\\u8f7b\\u5ffd\\u5927\\u610f\\u3002\\u89e3\\u91ca\\uff1a\\u5c1a\\u5728\\u89c2\\u5bdf\\u4e2d\\u3002\\u7279\\u6027\\uff1a\\u6709\\u521b\\u610f\\uff0c\\u559c\\u6b22\\u5f00\\u53d1\\u65b0\\u4e8b\\u7269\\uff0c\\u89c1\\u89e3\\u65b0\\u9896\\uff0c\\u7231\\u65c5\\u884c\\uff0c\\u89c2\\u6469\\u4ed6\\u4eba\\uff0c\\u7814\\u7a76\\u6bd4\\u8f83\\uff0c\\u4e0d\\u65ad\\u4fee\\u6b63\\u53cd\\u7701\\u81ea\\u5df1\\u3002\\u8fd0\\u52bf\\uff1a\\u5904\\u5728\\u6709\\u5371\\u9669\\u4e0d\\u7a33\\u7684\\u65f6\\u8fd0\\uff0c\\u800d\\u591a\\u89c2\\u671b\\u65f6\\u52bf\\u4e4b\\u5229\\u5f0a\\uff0c\\u5f85\\u673a\\u884c\\u4e8b\\uff0c\\u4e8e\\u4eba\\u4e8b\\u7269\\uff0c\\u987b\\u4ee5\\u8bda\\u5f85\\u4e4b\\uff0c\\u624d\\u80fd\\u611f\\u5316\\u800c\\u5e78\\u514d\\u9677\\u5165\\u56f0\\u96be\\u4e5f\\u3002\\u5bb6\\u8fd0\\uff1a\\u6b63\\u5904\\u4e8e\\u4e0b\\u5761\\u65f6\\u6bb5\\uff0c\\u8981\\u77e5\\u56fa\\u5b88\\u8fdb\\u9000\\u4e4b\\u673a\\uff0c\\u542c\\u53d6\\u957f\\u8f88\\u610f\\u89c1\\u6709\\u52a9\\u4e5f\\u3002\\u75be\\u75c5\\uff1a\\u6709\\u6e10\\u6076\\u5316\\u4e4b\\u8c61\\uff0c\\u75c5\\u60c5\\u53d8\\u5316\\u591a\\uff0c\\u4e3a\\u8179\\u3001\\u795e\\u7ecf\\u7cfb\\u7edf\\u75c5\\u75c7\\u3002\\u80ce\\u5b55\\uff1a\\u5b55\\u6709\\u4e0d\\u5b89\\u4e4b\\u8c61\\u3002\\u5b50\\u5973\\uff1a\\u513f\\u5973\\u5c06\\u6765\\u6709\\u6210\\u5c31\\u5e78\\u798f\\u4e5f\\u3002\\u5468\\u8f6c\\uff1a\\u867d\\u6709\\u597d\\u8a00\\uff0c\\u5b9e\\u9645\\u5185\\u5728\\u7a7a\\u865a\\u3002\\u65e0\\u6307\\u671b\\u5c45\\u591a\\u3002\\u4e70\\u5356\\uff1a\\u4ea4\\u6613\\u6709\\u788d\\u3002\\u5e94\\u5728\\u620c\\u4ea5\\u65e5\\u53ef\\u6210\\uff0c\\u5426\\u5219\\u96be\\u6210\\u3002\\u7b49\\u4eba\\uff1a\\u89c2\\u671b\\u5fc5\\u6709\\u7b49\\u5f85\\uff0c\\u800c\\u6765\\u8005\\u6709\\u968f\\u4ed6\\u4eba\\u53bb\\u4e4b\\u8c61\\u3002\\u5bfb\\u4eba\\uff1a\\u6b64\\u4eba\\u5230\\u5904\\u6f02\\u6cca\\uff0c\\u884c\\u8e2a\\u4e0d\\u5b9a\\uff0c\\u6709\\u9669\\u8c61\\u3002\\u76ee\\u524d\\u5728\\u897f\\u5357\\u65b9\\uff0c\\u5b9c\\u4e11\\u672a\\u65e5\\u89c1\\u3002\\u5931\\u7269\\uff1a\\u82e5\\u80fd\\u7ec6\\u5fc3\\u56db\\u5bdf\\uff0c\\u53ef\\u4ee5\\u627e\\u56de\\u6765\\u3002\\u5916\\u51fa\\uff1a\\u6709\\u98ce\\u9669\\uff0c\\u62e9\\u65e5\\u800c\\u884c\\u3002\\u8003\\u8bd5\\uff1a\\u4e0d\\u7406\\u60f3\\u3002\\u8bc9\\u8bbc\\uff1a\\u5c0f\\u4eba\\u5f53\\u9053\\uff0c\\u6108\\u4e89\\u8bba\\u60f9\\u8d77\\u7eb7\\u4e89\\u6108\\u591a\\uff0c\\u4f46\\u7ec8\\u4f1a\\u548c\\u89e3\\u3002\\u6c42\\u4e8b\\uff1a\\u4e0d\\u6613\\u3002\\u6539\\u884c\\uff1a\\u64c5\\u81ea\\u4e3b\\u5f20\\u4e0d\\u5b9c\\uff0c\\u82e5\\u7531\\u4ed6\\u4eba\\u63d0\\u62d4\\u5219\\u53ef\\u3002\\u5f00\\u4e1a\\uff1a\\u5f00\\u4e1a\\u8005\\u4e0d\\u5b9c\\u3002\\n\\n\\u521d\\u516d\\u723b\\u8f9e\\u521d\\u516d\\u3002\\u7ae5\\u89c2\\uff0c\\u5c0f\\u4eba\\u65e0\\u548e\\uff0c\\u541b\\u5b50\\u541d\\u3002\\u8c61\\u66f0\\uff1a\\u521d\\u516d\\u7ae5\\u89c2\\uff0c\\u5c0f\\u4eba\\u9053\\u4e5f\\u3002\\u767d\\u8bdd\\u6587\\u89e3\\u91ca\\u521d\\u516d\\uff1a\\u611a\\u8822\\u8fd1\\u89c6\\uff0c\\u5bf9\\u4e00\\u822c\\u767e\\u59d3\\u6765\\u8bb2\\u5c1a\\u65e0\\u5927\\u788d\\uff0c\\u4f46\\u5bf9\\u4e8e\\u62c5\\u8d1f\\u653f\\u6cbb\\u8d23\\u4efb\\u7684\\u541b\\u5b50\\u6765\\u8bf4\\uff0c\\u5c06\\u4f1a\\u94f8\\u6210\\u5927\\u9519\\u3002\\u300a\\u8c61\\u8f9e\\u300b\\u8bf4\\uff1a\\u521d\\u516d\\u723b\\u8f9e\\u8bb2\\uff0c\\u611a\\u8822\\u8fd1\\u89c6\\uff0c\\u8fd9\\u6b63\\u662f\\u5c0f\\u4eba\\u4eec\\u7684\\u601d\\u60f3\\u7279\\u5f81\\u3002\\n\\n\\u5317\\u5b8b\\u6613\\u5b66\\u5bb6\\u90b5\\u96cd\\u89e3\\u51f6\\uff1a\\u5f97\\u6b64\\u723b\\u8005\\uff0c\\u5b9c\\u9632\\u5c0f\\u4eba\\uff0c\\u8bf8\\u4e8b\\u6709\\u56f0\\u96be\\uff0c\\u5f04\\u5de7\\u6210\\u62d9\\u3002\\u505a\\u5b98\\u7684\\u6709\\u5371\\u96be\\uff0c\\u4e0d\\u5b9c\\u8fdb\\u53d6\\u3002\\n\\n\\u53f0\\u6e7e\\u56fd\\u5b66\\u5927\\u5112\\u5085\\u4f69\\u8363\\u89e3\\u65f6\\u8fd0\\uff1a\\u521d\\u8fd0\\u672a\\u4f73\\uff0c\\u4f46\\u65e0\\u5927\\u788d\\u3002\\u8d22\\u8fd0\\uff1a\\u521d\\u767b\\u573a\\u9762\\uff0c\\u5c0f\\u4f5c\\u5373\\u53ef\\u3002\\u5bb6\\u5b85\\uff1a\\u5c0f\\u5fc3\\u7ae5\\u4ec6\\uff1b\\u81ea\\u7531\\u7ed3\\u4eb2\\u3002\\u8eab\\u4f53\\uff1a\\u5c0f\\u5b69\\u6ca1\\u4e8b\\uff0c\\u5927\\u4eba\\u4e0d\\u5229\\u3002\\n\\n\\u521d\\u516d\\u53d8\\u5366\\u521d\\u516d\\u723b\\u52a8\\u53d8\\u5f97\\u5468\\u6613\\u7b2c42\\u5366\\uff1a\\u98ce\\u96f7\\u76ca\\u3002\\u8fd9\\u4e2a\\u5366\\u662f\\u5f02\\u5366\\uff08\\u4e0b\\u9707\\u4e0a\\u5dfd\\uff09\\u76f8\\u53e0\\u3002\\u5dfd\\u4e3a\\u98ce\\uff1b\\u9707\\u4e3a\\u96f7\\u3002\\u98ce\\u96f7\\u6fc0\\u8361\\uff0c\\u5176\\u52bf\\u6108\\u5f3a\\uff0c\\u96f7\\u6108\\u54cd\\uff0c\\u98ce\\u96f7\\u76f8\\u52a9\\u4e92\\u957f\\uff0c\\u4ea4\\u76f8\\u52a9\\u76ca\\u3002\\u6b64\\u5366\\u4e0e\\u635f\\u5366\\u76f8\\u53cd\\u3002\\u5b83\\u662f\\u635f\\u4e0a\\u4ee5\\u76ca\\u4e0b\\uff0c\\u540e\\u8005\\u662f\\u635f\\u4e0b\\u4ee5\\u76ca\\u4e0a\\u3002\\u4e8c\\u5366\\u9610\\u8ff0\\u7684\\u662f\\u635f\\u76ca\\u7684\\u539f\\u5219\\u3002\\n\\n\\u516d\\u4e8c\\u723b\\u8f9e\\u516d\\u4e8c\\u3002\\u7aa5\\u89c2\\uff0c\\u5229\\u5973\\u8d1e\\u3002\\u8c61\\u66f0\\uff1a\\u7aa5\\u89c2\\u5973\\u8d1e\\uff0c\\u4ea6\\u53ef\\u4e11\\u4e5f\\u3002\\u767d\\u8bdd\\u6587\\u89e3\\u91ca\\u516d\\u4e8c\\uff1a\\u56ff\\u4e8e\\u4e00\\u5b54\\u4e4b\\u89c1\\uff0c\\u8fd9\\u662f\\u6709\\u5229\\u4e8e\\u5973\\u4eba\\u7684\\u8d1e\\u5146\\u3002\\u300a\\u8c61\\u8f9e\\u300b\\u8bf4\\uff1a\\u5973\\u4eba\\u7aa5\\u89c6\\u7537\\u4eba\\uff0c\\u5373\\u4f7f\\u64cd\\u884c\\u8d1e\\u6b63\\uff0c\\u4ea6\\u5c5e\\u53ef\\u4e11\\u7684\\u884c\\u4e3a\\u3002\\n\\n\\u5317\\u5b8b\\u6613\\u5b66\\u5bb6\\u90b5\\u96cd\\u89e3\\u5e73\\uff1a\\u5f97\\u6b64\\u723b\\u8005\\uff0c\\u5728\\u5bb6\\u4e0d\\u5982\\u610f\\uff0c\\u5916\\u51fa\\u8c0b\\u4e8b\\u5219\\u597d\\uff0c\\u6216\\u559c\\u6216\\u5fe7\\uff0c\\u6216\\u56e0\\u5987\\u4eba\\u800c\\u8d77\\u662f\\u975e\\uff0c\\u5927\\u62b5\\u5b9c\\u52a8\\u4e0d\\u5b9c\\u9759\\u3002\\u6b64\\u723b\\u5973\\u559c\\uff0c\\u7537\\u60b2\\u3002\\n\\n\\u53f0\\u6e7e\\u56fd\\u5b66\\u5927\\u5112\\u5085\\u4f69\\u8363\\u89e3\\u65f6\\u8fd0\\uff1a\\u6700\\u597d\\u9000\\u5b88\\uff0c\\u5973\\u6027\\u6709\\u5229\\u3002\\u8d22\\u8fd0\\uff1a\\u8695\\u4e1d\\u6709\\u5229\\uff0c\\u4f59\\u7686\\u4e0d\\u5b9c\\u3002\\u5bb6\\u5b85\\uff1a\\u5987\\u5973\\u4e3b\\u5bb6\\u3002\\u8eab\\u4f53\\uff1a\\u9634\\u5bd2\\u4e4b\\u75c7\\uff0c\\u53ef\\u6108\\u3002\\n\\n\\u516d\\u4e8c\\u53d8\\u5366\\u516d\\u4e8c\\u723b\\u52a8\\u53d8\\u5f97\\u5468\\u6613\\u7b2c59\\u5366\\uff1a\\u98ce\\u6c34\\u6da3\\u3002\\u8fd9\\u4e2a\\u5366\\u662f\\u5f02\\u5366\\uff08\\u4e0b\\u574e\\u4e0a\\u5dfd\\uff09\\u76f8\\u53e0\\u3002\\u98ce\\u5728\\u6c34\\u4e0a\\u884c\\uff0c\\u63a8\\u6ce2\\u52a9\\u6f9c\\uff0c\\u56db\\u65b9\\u6d41\\u6ea2\\u3002\\u6da3\\uff0c\\u6c34\\u6d41\\u6d41\\u6563\\u4e4b\\u610f\\u3002\\u8c61\\u5f81\\u7ec4\\u7ec7\\u548c\\u4eba\\u5fc3\\u6da3\\u6563\\uff0c\\u5fc5\\u987b\\u7528\\u79ef\\u6781\\u7684\\u624b\\u6bb5\\u548c\\u65b9\\u6cd5\\u514b\\u670d\\uff0c\\u6218\\u80dc\\u5f0a\\u7aef\\uff0c\\u633d\\u6551\\u6da3\\u6563\\uff0c\\u8f6c\\u5371\\u4e3a\\u5b89\\u3002\\n\\n\\u516d\\u4e09\\u723b\\u8f9e\\u516d\\u4e09\\u3002\\u89c2\\u6211\\u751f\\uff0c\\u8fdb\\u9000\\u3002\\u8c61\\u66f0\\uff1a\\u89c2\\u6211\\u751f\\u8fdb\\u9000\\uff0c\\u672a\\u5931\\u9053\\u4e5f\\u3002\\u767d\\u8bdd\\u6587\\u89e3\\u91ca\\u516d\\u4e09\\uff1a\\u89c2\\u5bdf\\u4eb2\\u65cf\\u7684\\u601d\\u60f3\\u52a8\\u5411\\uff0c\\u4ece\\u800c\\u51b3\\u5b9a\\u4e3a\\u653f\\u7684\\u63aa\\u65bd\\u3002\\u300a\\u8c61\\u8f9e\\u300b\\u8bf4\\uff1a\\u89c2\\u5bdf\\u4eb2\\u65cf\\u7684\\u601d\\u60f3\\u52a8\\u5411\\uff0c\\u4ece\\u800c\\u51b3\\u5b9a\\u4e3a\\u653f\\u7684\\u63aa\\u65bd\\uff0c\\u8fd9\\u624d\\u672a\\u5931\\u53bb\\u7528\\u4eba\\u884c\\u653f\\u7684\\u6b63\\u9053\\u3002\\n\\n\\u5317\\u5b8b\\u6613\\u5b66\\u5bb6\\u90b5\\u96cd\\u89e3\\u5e73\\uff1a\\u5f97\\u6b64\\u723b\\u8005\\uff0c\\u4e09\\u5fc3\\u4e8c\\u610f\\uff0c\\u987b\\u8c28\\u614e\\u884c\\u4e8b\\uff0c\\u77e5\\u96be\\u800c\\u9000\\u3002\\u505a\\u5b98\\u7684\\u8fdb\\u9000\\u65e0\\u5e38\\u3002\\n\\n\\u53f0\\u6e7e\\u56fd\\u5b66\\u5927\\u5112\\u5085\\u4f69\\u8363\\u89e3\\u65f6\\u8fd0\\uff1a\\u5ea6\\u5fb7\\u91cf\\u529b\\uff0c\\u7a0d\\u5b89\\u6bcb\\u8e81\\u3002\\u8d22\\u8fd0\\uff1a\\u968f\\u4e70\\u968f\\u5356\\uff0c\\u4e0d\\u81f4\\u6709\\u5931\\u3002\\u5bb6\\u5b85\\uff1a\\u5b88\\u4f4f\\u65e7\\u503a\\u3002\\u8eab\\u4f53\\uff1a\\u5b89\\u5fc3\\u9759\\u517b\\uff0c\\u53ef\\u4fdd\\u5e73\\u5b89\\u3002\\n\\n\\u516d\\u4e09\\u53d8\\u5366\\u516d\\u4e09\\u723b\\u52a8\\u53d8\\u5f97\\u5468\\u6613\\u7b2c53\\u5366\\uff1a\\u98ce\\u5c71\\u6e10\\u3002\\u8fd9\\u4e2a\\u5366\\u662f\\u5f02\\u5366\\uff08\\u4e0b\\u826e\\u4e0a\\u5dfd\\uff09\\u76f8\\u53e0\\u3002\\u826e\\u4e3a\\u5c71\\uff0c\\u5dfd\\u4e3a\\u6728\\u3002\\u5c71\\u4e0a\\u6709\\u6728\\uff0c\\u9010\\u6e10\\u6210\\u957f\\uff0c\\u5c71\\u4e5f\\u968f\\u7740\\u589e\\u9ad8\\u3002\\u8fd9\\u662f\\u9010\\u6e10\\u8fdb\\u6b65\\u7684\\u8fc7\\u7a0b\\uff0c\\u6240\\u4ee5\\u79f0\\u6e10\\uff0c\\u6e10\\u5373\\u8fdb\\uff0c\\u6e10\\u6e10\\u524d\\u8fdb\\u800c\\u4e0d\\u6025\\u901f\\u3002\\n\\n\\u516d\\u56db\\u723b\\u8f9e\\u516d\\u56db\\u3002\\u89c2\\u56fd\\u4e4b\\u5149\\uff0c\\u5229\\u7528\\u5bbe\\u4e8e\\u738b\\u3002\\u8c61\\u66f0\\uff1a\\u89c2\\u56fd\\u4e4b\\u5149\\uff0c\\u5c1a\\u5bbe\\u4e5f\\u3002\\u767d\\u8bdd\\u6587\\u89e3\\u91ca\\u516d\\u56db\\uff1a\\u89c2\\u5bdf\\u56fd\\u5bb6\\u653f\\u7ee9\\u98ce\\u4fd7\\u7684\\u8f89\\u714c\\u8868\\u73b0\\u3002\\u7b6e\\u9047\\u6b64\\u723b\\uff0c\\u6709\\u5229\\u4e8e\\u671d\\u89d0\\u541b\\u738b\\u3002\\u300a\\u8c61\\u8f9e\\u300b\\u8bf4\\uff1a\\u89c2\\u5bdf\\u56fd\\u5bb6\\u653f\\u7ee9\\u98ce\\u4fd7\\u7684\\u8f89\\u714c\\u8868\\u73b0\\uff0c\\u6b64\\u6765\\u8005\\u4e3a\\u56fd\\u5bbe\\u3002\\n\\n\\u5317\\u5b8b\\u6613\\u5b66\\u5bb6\\u90b5\\u96cd\\u89e3\\u5e73\\uff1a\\u5f97\\u6b64\\u723b\\u8005\\uff0c\\u5b9c\\u51fa\\u5916\\u8c0b\\u4e8b\\uff0c\\u591a\\u4e0e\\u5916\\u4eba\\u4ea4\\u5f80\\uff0c\\u5219\\u6709\\u5229\\u3002\\u505a\\u5b98\\u7684\\u6216\\u5c45\\u95f2\\u804c\\uff0c\\u6e05\\u9ad8\\u4e4b\\u5730\\u3002\\n\\n\\u53f0\\u6e7e\\u56fd\\u5b66\\u5927\\u5112\\u5085\\u4f69\\u8363\\u89e3\\u65f6\\u8fd0\\uff1a\\u6b63\\u5f53\\u597d\\u8fd0\\uff0c\\u540d\\u80dc\\u4e8e\\u5229\\u3002\\u8d22\\u8fd0\\uff1a\\u56fd\\u9645\\u8d38\\u6613\\uff0c\\u6709\\u5229\\u6709\\u540d\\u3002\\u5bb6\\u5b85\\uff1a\\u559c\\u4e8b\\u4e34\\u95e8\\u3002\\u8eab\\u4f53\\uff1a\\u591a\\u52a0\\u5c0f\\u5fc3\\u3002\\n\\n\\u516d\\u56db\\u53d8\\u5366\\u516d\\u56db\\u723b\\u52a8\\u53d8\\u5f97\\u5468\\u6613\\u7b2c12\\u5366\\uff1a\\u5929\\u5730\\u5426\\u3002\\u8fd9\\u4e2a\\u5366\\u662f\\u5f02\\u5366\\uff08\\u4e0b\\u5764\\u4e0a\\u4e7e\\uff09\\u76f8\\u53e0\\uff0c\\u5176\\u7ed3\\u6784\\u540c\\u6cf0\\u5366\\u76f8\\u53cd\\uff0c\\u7cfb\\u9633\\u6c14\\u4e0a\\u5347\\uff0c\\u9634\\u6c14\\u4e0b\\u964d\\uff0c\\u5929\\u5730\\u4e0d\\u4ea4\\uff0c\\u4e07\\u7269\\u4e0d\\u901a\\u3002\\u5b83\\u4eec\\u5f7c\\u6b64\\u4e3a\\u201c\\u7efc\\u5366\\u201d\\uff0c\\u8868\\u660e\\u6cf0\\u6781\\u800c\\u5426\\uff0c\\u5426\\u6781\\u6cf0\\u6765\\uff0c\\u4e92\\u4e3a\\u56e0\\u679c\\u3002\\n\\n\\u4e5d\\u4e94\\u723b\\u8f9e\\u4e5d\\u4e94\\u3002\\u89c2\\u6211\\u751f\\uff0c\\u541b\\u5b50\\u65e0\\u548e\\u3002\\u8c61\\u66f0\\uff1a\\u89c2\\u6211\\u751f\\uff0c\\u89c2\\u6c11\\u4e5f\\u3002\\u767d\\u8bdd\\u6587\\u89e3\\u91ca\\u4e5d\\u4e94\\uff1a\\u5584\\u4e8e\\u89c2\\u5bdf\\u4eb2\\u65cf\\u4e4b\\u610f\\u5411\\uff0c\\u541b\\u5b50\\u53ef\\u4ee5\\u65e0\\u8fc7\\u9519\\u3002\\u300a\\u8c61\\u8f9e\\u300b\\u8bf4\\uff1a\\u89c2\\u5bdf\\u4eb2\\u65cf\\u4e4b\\u610f\\u5411\\uff0c\\u5c31\\u662f\\u89c2\\u5bdf\\u5929\\u4e0b\\u4e07\\u6c11\\u7684\\u610f\\u5411\\u3002\\n\\n\\u5317\\u5b8b\\u6613\\u5b66\\u5bb6\\u90b5\\u96cd\\u89e3\\u5409\\uff1a\\u5f97\\u6b64\\u723b\\u8005\\uff0c\\u65f6\\u6765\\u8fd0\\u8f6c\\uff0c\\u5229\\u76ca\\u4e30\\u539a\\uff0c\\u5bf9\\u4e8e\\u5987\\u4eba\\u5219\\u6709\\u6000\\u5b55\\u4e4b\\u559c\\uff0c\\u75c5\\u91cd\\u8005\\u6709\\u751f\\u547d\\u4e4b\\u5fe7\\u3002\\u505a\\u5b98\\u7684\\u4f1a\\u56e0\\u4e3a\\u81ea\\u5df1\\u826f\\u597d\\u7684\\u5b98\\u5fb7\\uff0c\\u7235\\u7984\\u6709\\u5347\\u3002\\n\\n\\u53f0\\u6e7e\\u56fd\\u5b66\\u5927\\u5112\\u5085\\u4f69\\u8363\\u89e3\\u65f6\\u8fd0\\uff1a\\u76f4\\u9053\\u800c\\u884c\\uff0c\\u65e0\\u5f80\\u4e0d\\u5229\\u3002\\u8d22\\u8fd0\\uff1a\\u6211\\u6765\\u51b3\\u5b9a\\uff0c\\u5fc5\\u53ef\\u5f97\\u5229\\u3002\\u5bb6\\u5b85\\uff1a\\u6211\\u6765\\u5efa\\u5b85\\u3002\\u8eab\\u4f53\\uff1a\\u5e73\\u5b89\\u65e0\\u788d\\u3002\\n\\n\\u4e5d\\u4e94\\u53d8\\u5366\\u4e5d\\u4e94\\u723b\\u52a8\\u53d8\\u5f97\\u5468\\u6613\\u7b2c23\\u5366\\uff1a\\u5c71\\u5730\\u5265\\u3002\\u8fd9\\u4e2a\\u5366\\u662f\\u5f02\\u5366\\uff08\\u4e0b\\u5764\\u4e0a\\u826e\\uff09\\u76f8\\u53e0\\u3002\\u4e94\\u9634\\u5728\\u4e0b\\uff0c\\u4e00\\u9633\\u5728\\u4e0a\\uff0c\\u9634\\u76db\\u800c\\u9633\\u5b64\\uff1b\\u9ad8\\u5c71\\u9644\\u4e8e\\u5730\\u3002\\u4e8c\\u8005\\u90fd\\u662f\\u5265\\u843d\\u8c61\\uff0c\\u6545\\u4e3a\\u201c\\u5265\\u5366\\u201d\\u3002\\u6b64\\u5366\\u9634\\u76db\\u9633\\u8870\\uff0c\\u55bb\\u5c0f\\u4eba\\u5f97\\u52bf\\uff0c\\u541b\\u5b50\\u56f0\\u987f\\uff0c\\u4e8b\\u4e1a\\u8d25\\u574f\\u3002\\n\\n\\u4e0a\\u4e5d\\u723b\\u8f9e\\u4e0a\\u4e5d\\u3002\\u89c2\\u5176\\u751f\\uff0c\\u541b\\u5b50\\u65e0\\u548e\\u3002\\u8c61\\u66f0\\uff1a\\u89c2\\u5176\\u751f\\uff0c\\u5fd7\\u672a\\u5e73\\u4e5f\\u3002\\u767d\\u8bdd\\u6587\\u89e3\\u91ca\\u4e0a\\u4e5d\\uff1a\\u89c2\\u5bdf\\u5176\\u4ed6\\u90e8\\u65cf\\u7684\\u610f\\u5411\\uff0c\\u541b\\u5b50\\u53ef\\u4ee5\\u65e0\\u8fc7\\u9519\\u3002\\u300a\\u8c61\\u8f9e\\u300b\\u8bf4\\uff1a\\u89c2\\u5bdf\\u5176\\u4ed6\\u90e8\\u65cf\\u7684\\u610f\\u5411\\uff0c\\u662f\\u56e0\\u4e3a\\u5c1a\\u672a\\u5168\\u9762\\u6478\\u6e05\\u60c5\\u51b5\\uff0c\\u5fc3\\u4e0d\\u8e0f\\u5b9e\\uff0c\\u51b3\\u5fc3\\u96be\\u4e0b\\u3002\\n\\n\\u5317\\u5b8b\\u6613\\u5b66\\u5bb6\\u90b5\\u96cd\\u89e3\\u5e73\\uff1a\\u5f97\\u6b64\\u723b\\u8005\\uff0c\\u8fd0\\u52bf\\u4e0d\\u901a\\uff0c\\u5fc3\\u6709\\u4f59\\u800c\\u529b\\u4e0d\\u8db3\\uff0c\\u6000\\u5b55\\u8005\\u5229\\u4e8e\\u751f\\u80b2\\uff0c\\u4e45\\u75c5\\u8005\\u4f1a\\u75ca\\u6108\\u3002\\u505a\\u5b98\\u7684\\u5b9c\\u9000\\u5b88\\uff0c\\u4fee\\u5fb7\\u517b\\u8eab\\u3002\\n\\n\\u53f0\\u6e7e\\u56fd\\u5b66\\u5927\\u5112\\u5085\\u4f69\\u8363\\u89e3\\u65f6\\u8fd0\\uff1a\\u5927\\u8fd0\\u5df2\\u8fc7\\uff0c\\u81ea\\u7701\\u65e0\\u788d\\u3002\\u8d22\\u8fd0\\uff1a\\u4e70\\u5230\\u8d27\\u5b58\\uff0c\\u6709\\u5229\\u53ef\\u56fe\\u3002\\u5bb6\\u5b85\\uff1a\\u8001\\u5b85\\u751f\\u606f\\u3002\\u8eab\\u4f53\\uff1a\\u6765\\u65e5\\u65e0\\u591a\\u3002\\n\\n\\u4e0a\\u4e5d\\u53d8\\u5366\\u4e0a\\u4e5d\\u723b\\u52a8\\u53d8\\u5f97\\u5468\\u6613\\u7b2c8\\u5366\\uff1a\\u6c34\\u5730\\u6bd4\\u3002\\u8fd9\\u4e2a\\u5366\\u662f\\u5f02\\u5366\\uff08\\u4e0b\\u5764\\u4e0a\\u574e\\uff09\\u76f8\\u53e0\\uff0c\\u5764\\u4e3a\\u5730\\uff0c\\u574e\\u4e3a\\u6c34\\u3002\\u6c34\\u9644\\u5927\\u5730\\uff0c\\u5730\\u7eb3\\u6cb3\\u6d77\\uff0c\\u76f8\\u4e92\\u4f9d\\u8d56\\uff0c\\u4eb2\\u5bc6\\u65e0\\u95f4\\u3002\\u6b64\\u5366\\u4e0e\\u5e08\\u5366\\u5b8c\\u5168\\u76f8\\u53cd\\uff0c\\u4e92\\u4e3a\\u7efc\\u5366\\u3002\\u5b83\\u9610\\u8ff0\\u7684\\u662f\\u76f8\\u4eb2\\u76f8\\u8f85\\uff0c\\u5bbd\\u5b8f\\u65e0\\u79c1\\uff0c\\u7cbe\\u8bda\\u56e2\\u7ed3\\u7684\\u9053\\u7406\\u3002\\n\\n'"
      ]
     },
     "execution_count": 75,
     "metadata": {},
     "output_type": "execute_result"
    }
   ],
   "source": [
    "dtext.values()[0]"
   ]
  },
  {
   "cell_type": "code",
   "execution_count": 93,
   "metadata": {},
   "outputs": [],
   "source": [
    "import json\n",
    "with open(\"/Users/chengjun/github/iching/package_data.dat\",'w') as outfile:\n",
    "    json.dump(dtextu, outfile, ensure_ascii=False) #, encoding = 'utf-8')"
   ]
  },
  {
   "cell_type": "code",
   "execution_count": 90,
   "metadata": {},
   "outputs": [],
   "source": [
    "dat = json.load(open('package_data.dat'), encoding='utf-8')"
   ]
  },
  {
   "cell_type": "code",
   "execution_count": 92,
   "metadata": {},
   "outputs": [
    {
     "name": "stdout",
     "output_type": "stream",
     "text": [
      "观卦原文观。盥而不荐，有孚顒若。象曰：风行地上，观。先王以省方，观民设教。白话文解释观卦：祭祀时灌酒降神而不献人牲，因为用作祭祀的俘虏的头部肿了，不能用作祭品。《象辞》说：本卦上卦为巽为风，下卦为坤为地，风行大地吹拂万物，这是观的卦象。先王观此卦象取法于周流八方的风，从而巡视邦国，观察民情，推行教化。\n",
      "\n",
      "《断易天机》解观卦巽上坤下，为乾宫四世卦。观卦象征将道义展示于众人面前。观卦风在上而地在下，是春风浩荡、万物滋生之象。\n",
      "\n",
      "北宋易学家邵雍解以下观上，周游观览；平心静气，坚守岗位。得此卦者，处身于变化之中，心神不宁，宜多观察入微，待机行事，切勿妄进。\n",
      "\n",
      "台湾国学大儒傅佩荣解时运：出外游览，不易闲居。财运：贩卖洋货，须防风险。家宅：供养神佛。身体：风湿之症，运动调养。\n",
      "\n",
      "传统解卦这个卦是异卦（下坤上巽）相叠，风行地上，喻德教遍施。观卦与临卦互为综卦，交相使用。在上者以道义观天下；在下者以敬仰瞻上，人心顺服归从。大象：风运行于坤地之上，喻有周游观览之意。阴长阳消，正道衰微，万物难行。运势：处身于变化之中，宜多观察入微，心身苦恼，并防外来诱惑。事业：事业已出现不顺利的迹象，务必谦虚慎重，高瞻远瞩，尤忌短期行为，心胸开阔，注意搞好人际关系，团结他人，不宜轻率行动。必要时不妨投靠德行高的人，以图再度发展。经商：市场形势不稳定，正处于变动，应谨慎小心，随时观察动向，从长计议，做好退却的准备。求名：贵在自知之明，虚心向他人求教，端正处世态度，尤其不可自我满足，更须守中持正，树立远大理想，勿丧失个人追求的目标，勿偏离正道。婚恋：不顺利，双方应经受住考验，从长计议，会有理想的结果。决策：具有组织能力，适宜担任负责工作，但人生旅途多曲折，必须注意培养自己的预见性和观察力，办事务必公正，实事求是，注意人心动向，关心他人。尤其不可以陷入小人之道和近视行为之中。应有决断精神，不可盲从，必要时可进行策略依附。\n",
      "\n",
      "台湾张铭仁解卦观：表示观察、观看，是个最标准的状况卦，吉凶未定。凡事不可轻下决定，需要再观察一下局势再做打算。尤其是对长官、上位者的态度更是要察言观色，不可轻忽大意。解释：尚在观察中。特性：有创意，喜欢开发新事物，见解新颖，爱旅行，观摩他人，研究比较，不断修正反省自己。运势：处在有危险不稳的时运，耍多观望时势之利弊，待机行事，于人事物，须以诚待之，才能感化而幸免陷入困难也。家运：正处于下坡时段，要知固守进退之机，听取长辈意见有助也。疾病：有渐恶化之象，病情变化多，为腹、神经系统病症。胎孕：孕有不安之象。子女：儿女将来有成就幸福也。周转：虽有好言，实际内在空虚。无指望居多。买卖：交易有碍。应在戌亥日可成，否则难成。等人：观望必有等待，而来者有随他人去之象。寻人：此人到处漂泊，行踪不定，有险象。目前在西南方，宜丑未日见。失物：若能细心四察，可以找回来。外出：有风险，择日而行。考试：不理想。诉讼：小人当道，愈争论惹起纷争愈多，但终会和解。求事：不易。改行：擅自主张不宜，若由他人提拔则可。开业：开业者不宜。\n",
      "\n",
      "初六爻辞初六。童观，小人无咎，君子吝。象曰：初六童观，小人道也。白话文解释初六：愚蠢近视，对一般百姓来讲尚无大碍，但对于担负政治责任的君子来说，将会铸成大错。《象辞》说：初六爻辞讲，愚蠢近视，这正是小人们的思想特征。\n",
      "\n",
      "北宋易学家邵雍解凶：得此爻者，宜防小人，诸事有困难，弄巧成拙。做官的有危难，不宜进取。\n",
      "\n",
      "台湾国学大儒傅佩荣解时运：初运未佳，但无大碍。财运：初登场面，小作即可。家宅：小心童仆；自由结亲。身体：小孩没事，大人不利。\n",
      "\n",
      "初六变卦初六爻动变得周易第42卦：风雷益。这个卦是异卦（下震上巽）相叠。巽为风；震为雷。风雷激荡，其势愈强，雷愈响，风雷相助互长，交相助益。此卦与损卦相反。它是损上以益下，后者是损下以益上。二卦阐述的是损益的原则。\n",
      "\n",
      "六二爻辞六二。窥观，利女贞。象曰：窥观女贞，亦可丑也。白话文解释六二：囿于一孔之见，这是有利于女人的贞兆。《象辞》说：女人窥视男人，即使操行贞正，亦属可丑的行为。\n",
      "\n",
      "北宋易学家邵雍解平：得此爻者，在家不如意，外出谋事则好，或喜或忧，或因妇人而起是非，大抵宜动不宜静。此爻女喜，男悲。\n",
      "\n",
      "台湾国学大儒傅佩荣解时运：最好退守，女性有利。财运：蚕丝有利，余皆不宜。家宅：妇女主家。身体：阴寒之症，可愈。\n",
      "\n",
      "六二变卦六二爻动变得周易第59卦：风水涣。这个卦是异卦（下坎上巽）相叠。风在水上行，推波助澜，四方流溢。涣，水流流散之意。象征组织和人心涣散，必须用积极的手段和方法克服，战胜弊端，挽救涣散，转危为安。\n",
      "\n",
      "六三爻辞六三。观我生，进退。象曰：观我生进退，未失道也。白话文解释六三：观察亲族的思想动向，从而决定为政的措施。《象辞》说：观察亲族的思想动向，从而决定为政的措施，这才未失去用人行政的正道。\n",
      "\n",
      "北宋易学家邵雍解平：得此爻者，三心二意，须谨慎行事，知难而退。做官的进退无常。\n",
      "\n",
      "台湾国学大儒傅佩荣解时运：度德量力，稍安毋躁。财运：随买随卖，不致有失。家宅：守住旧债。身体：安心静养，可保平安。\n",
      "\n",
      "六三变卦六三爻动变得周易第53卦：风山渐。这个卦是异卦（下艮上巽）相叠。艮为山，巽为木。山上有木，逐渐成长，山也随着增高。这是逐渐进步的过程，所以称渐，渐即进，渐渐前进而不急速。\n",
      "\n",
      "六四爻辞六四。观国之光，利用宾于王。象曰：观国之光，尚宾也。白话文解释六四：观察国家政绩风俗的辉煌表现。筮遇此爻，有利于朝觐君王。《象辞》说：观察国家政绩风俗的辉煌表现，此来者为国宾。\n",
      "\n",
      "北宋易学家邵雍解平：得此爻者，宜出外谋事，多与外人交往，则有利。做官的或居闲职，清高之地。\n",
      "\n",
      "台湾国学大儒傅佩荣解时运：正当好运，名胜于利。财运：国际贸易，有利有名。家宅：喜事临门。身体：多加小心。\n",
      "\n",
      "六四变卦六四爻动变得周易第12卦：天地否。这个卦是异卦（下坤上乾）相叠，其结构同泰卦相反，系阳气上升，阴气下降，天地不交，万物不通。它们彼此为“综卦”，表明泰极而否，否极泰来，互为因果。\n",
      "\n",
      "九五爻辞九五。观我生，君子无咎。象曰：观我生，观民也。白话文解释九五：善于观察亲族之意向，君子可以无过错。《象辞》说：观察亲族之意向，就是观察天下万民的意向。\n",
      "\n",
      "北宋易学家邵雍解吉：得此爻者，时来运转，利益丰厚，对于妇人则有怀孕之喜，病重者有生命之忧。做官的会因为自己良好的官德，爵禄有升。\n",
      "\n",
      "台湾国学大儒傅佩荣解时运：直道而行，无往不利。财运：我来决定，必可得利。家宅：我来建宅。身体：平安无碍。\n",
      "\n",
      "九五变卦九五爻动变得周易第23卦：山地剥。这个卦是异卦（下坤上艮）相叠。五阴在下，一阳在上，阴盛而阳孤；高山附于地。二者都是剥落象，故为“剥卦”。此卦阴盛阳衰，喻小人得势，君子困顿，事业败坏。\n",
      "\n",
      "上九爻辞上九。观其生，君子无咎。象曰：观其生，志未平也。白话文解释上九：观察其他部族的意向，君子可以无过错。《象辞》说：观察其他部族的意向，是因为尚未全面摸清情况，心不踏实，决心难下。\n",
      "\n",
      "北宋易学家邵雍解平：得此爻者，运势不通，心有余而力不足，怀孕者利于生育，久病者会痊愈。做官的宜退守，修德养身。\n",
      "\n",
      "台湾国学大儒傅佩荣解时运：大运已过，自省无碍。财运：买到货存，有利可图。家宅：老宅生息。身体：来日无多。\n",
      "\n",
      "上九变卦上九爻动变得周易第8卦：水地比。这个卦是异卦（下坤上坎）相叠，坤为地，坎为水。水附大地，地纳河海，相互依赖，亲密无间。此卦与师卦完全相反，互为综卦。它阐述的是相亲相辅，宽宏无私，精诚团结的道理。\n",
      "\n",
      "\n"
     ]
    }
   ],
   "source": [
    "print dat.values()[1]"
   ]
  },
  {
   "cell_type": "code",
   "execution_count": 35,
   "metadata": {},
   "outputs": [
    {
     "name": "stdout",
     "output_type": "stream",
     "text": [
      "there is a changing predict! Also run changePredict()\n"
     ]
    }
   ],
   "source": [
    "now, future = getPredict()"
   ]
  },
  {
   "cell_type": "code",
   "execution_count": 38,
   "metadata": {},
   "outputs": [],
   "source": [
    "def ichingText(k):\n",
    "    import json\n",
    "    dat = json.load(open('iching/package_data.dat'))\n",
    "    print dat[k]"
   ]
  },
  {
   "cell_type": "code",
   "execution_count": 40,
   "metadata": {},
   "outputs": [
    {
     "name": "stdout",
     "output_type": "stream",
     "text": [
      "既济卦原文既济。亨，小利贞，初吉终乱。象曰：水在火上，既济。君子以思患而预防之。白话文解释既济卦：亨通。这是小见吉利的贞卜。起初吉利，最后将发生变故。《象辞》说：本卦上卦为坎，坎为水；下卦为离，离为火。水上火下，水浇火熄，是既济之卦的卦象。君子观此卦象，从而有备于无患之时，防范于未然之际。\n",
      "\n",
      "《断易天机》解既济卦坎上离下，为坎宫三世卦。既济就是说已经成功，事情已经摆平。但还需谨慎，当心物极必反。\n",
      "\n",
      "北宋易学家邵雍解济助有成，坚忍自重；由大而小，确保盛运。得此卦者，事业有成，成功之象，但谨防盛极必衰，宜退守为吉，再进则凶。\n",
      "\n",
      "台湾国学大儒傅佩荣解时运：盛极必衰，谨防后患。财运：及时出手，可得利润。家宅：大厦可居；百年好合。身体：大病初愈，仍需自理。\n",
      "\n",
      "传统解卦这个卦是异卦（下离上坎）相叠。坎为水，离为火，水火相交，水在火上，水势压倒火势，救火大功告成。既，已经；济，成也。既济就是事情已经成功，但终将发生变故。大象：坎水在离火之上，水性下注，火势上炎，水火相济，完成之意。运势：名利双收，成功之象，但须防物极必反，初吉后凶。事业：处在顺利和兴旺的阶段，甚至大功已经告成。如何才能保住这种势头，是问题的关键。必须认识盛极将衰的真理，思患预防，防微杜渐，有备可无患。同时，一定要密切注意形势，抓住有利时机，继续奋发向上，推动事业发展。经商：由于市场形势有利，已经赚得许多，但同时也预示着危机的随时出现。因此，务必小心在意，事未到，先预防，终日提防戒惧。同时，认真观察市场的变化，随时转向，开拓新市场。求名：个人追求名利的基本条件已经具备。必须防止因此而变得僵化和保守，以致功亏一篑，半途而废。婚恋：起初顺利，中途会出现挫折。决策：各方面条件都很好，环境又有利于成长。但因此反而会使自己满足，停止前进，甚至变得颓废，趋向没落。一定要不断刻苦努力，保持谦虚美德，常怀不安之心，防止不测事件发生。\n",
      "\n",
      "台湾张铭仁解卦既济：表示水火阴阳调和，一时平安和乐之象。水火本相克，因一时环境或人事所影响，而暂时相安无事，但终非常久之象，必有所冲克而败。解释：已经得到利益，不可贪得无厌。特性：物质丰盛，但精神易空虚，外华内虚，交际广，知心少，心思细腻，多愁善感，喜宁静的生活。运势：功名双收。极盛之时，但须知物极必反，宜退守为吉，再进则凶。但得此卦者，皆有因一时顺利而忘本，大意失荆州，终有人不和、心迷乱之象。家运：生在富家之象，受祖上恩泽而不知珍惜者多，终而破运之兆。疾病：短期虽有好转，但好景不常。胎孕：不安。子女：初时幸福，长大后与双亲不和，慎之。周转：短期可成，长期无望。买卖：中途变卦不利。故初时见好就收，莫贪心拖延，否则不利。等人：已中途折回，不必再等。寻人：若是常出走之人，小时自回，长大再出走，难寻。甚或不回。失物：应可寻回。外出：利于出行，途中需注意安全。考试：实力有，但需视考期之日吉凶而定，小吉。诉讼：有理说不清，仍须把握最有利时机争取主动，迟则反见凶。求事：紧急可，不宜长久。改行：不宜。开业：开业者最好慎重​​考虑，因此卦象好景不常。\n",
      "\n",
      "初九爻辞初九。曳其轮，濡其尾，无咎。象曰：曳其轮，义无咎也。白话文解释初九：提着腰带过河，打湿了衣尾。没有大问题。《象辞》说：提着腰带过河，打湿了衣尾，理应无灾难。\n",
      "\n",
      "北宋易学家邵雍解平：得此爻者，时运未到，欲动未动，安保无虞。做官的有职未受，有位未登。\n",
      "\n",
      "台湾国学大儒傅佩荣解时运：奋勉有加，可以无咎。财运：暂时稳住，将可脱困。家宅：可以安居；初聘为吉。身体：初病可治。\n",
      "\n",
      "初九变卦初九爻动变得周易第39卦：水山蹇。这个卦是异卦（下艮上坎）相叠。坎为水，艮为山。山高水深，困难重重，人生险阻，见险而止，明哲保身，可谓智慧。蹇，跋行艰难。\n",
      "\n",
      "六二爻辞六二。妇丧其茀，勿逐，七日得。象曰：七日得，以中道也。白话文解释六二：妇人丢失了头巾，不用寻找，七日内可以不寻而得。《象辞》说：七日内可以不寻而得，因为六二阴爻居阴位，位象既得，失物将还。\n",
      "\n",
      "北宋易学家邵雍解平：得此爻者，先难后易，做官的有先逆后顺之美。\n",
      "\n",
      "台湾国学大儒傅佩荣解时运：不计小利，得成大功。财运：失而复得，不必担心。家宅：七年可还；将可团聚。身体：七日可愈。\n",
      "\n",
      "六二变卦六二爻动变得周易第5卦：水天需。这个卦是异卦（下乾上坎）相叠，下卦是乾，刚健之意；上卦是坎，险陷之意。以刚逢险，宜稳健之妥，不可冒失行动，观时待变，所往一定成功。\n",
      "\n",
      "九三爻辞九三。高宗伐鬼方，三年克之。小人勿用。象曰：三年克之，惫也。白话文解释九三：高宗讨伐鬼方，费时三年才打败它。筮遇此爻，不可重用小人。《象辞》说：费时三年才打败它，因为鬼方这时已疲惫不堪。\n",
      "\n",
      "北宋易学家邵雍解凶：得此爻者，有结怨争诉之损。做官的多差遣征伐之举。\n",
      "\n",
      "台湾国学大儒傅佩荣解时运：努力工作，所谋必成。财运：数年经营，才可获利。家宅：三年后居；三年可婚。身体：一时无恙，只保三年。\n",
      "\n",
      "九三变卦九三爻动变得周易第3卦：水雷屯。这个卦是异卦（下震上坎）相叠，震为雷，喻动；坎为雨，喻险。雷雨交加，险象丛生，环境恶劣。“屯”原指植物萌生大地，万物始生，充满艰难险阻，然而顺时应运，必欣欣向荣。\n",
      "\n",
      "六四爻辞六四。繻有衣袽，终日戒。象曰：终日戒，有所疑也。白话文解释六四：撑着用败絮塞罅漏的船，整日里提心吊胆。《象辞》说：整日里提心吊胆，说明心中疑虑重重。\n",
      "\n",
      "北宋易学家邵雍解平：得此爻者，时运平平，有备则无患。做官的须做好预防，则爵禄稳固。\n",
      "\n",
      "台湾国学大儒傅佩荣解时运：处顺思困，谨慎为宜。财运：经营漏洞，早些修补。家宅：修正屋宇；珍惜情谊。身体：年老体弱。\n",
      "\n",
      "六四变卦六四爻动变得周易第49卦：泽火革。这个卦是异卦（下离上兑）相叠。离为火、兑为泽，泽内有水。水在上而下浇，火在下而上升。火旺水干，水大火熄。二者相生亦相克，必然出现变革。变革是宇宙的基本规律。\n",
      "\n",
      "九五爻辞九五。东邻杀牛，不如西郊之禴祭，实受其福。象曰：东邻杀牛，不如西邻之时也。实受其福，吉大来也。白话文解释九五：殷人杀牛厚祭鬼神，不如周人簿祭鬼神，周人倒是得到鬼神的福佑。《象辞》说：殷人杀牛厚祭鬼神，不如周人薄祭鬼神的用意美善，周人得到鬼神的福佑，将有重大的吉庆降临。\n",
      "\n",
      "北宋易学家邵雍解吉：得此爻者，近谋有实，远谋多虚，不利东方，利于西方。\n",
      "\n",
      "台湾国学大儒傅佩荣解时运：持盈保泰，吉凶自取。财运：奢不如俭，实获其利。家宅：向西吉宅；两邻订亲。身体：最好祷告。\n",
      "\n",
      "九五变卦九五爻动变得周易第36卦：地火明夷。这个卦是异卦（下离上坤）相叠。离为明，坤为顺；离为日；坤为地。日没入地，光明受损，前途不明，环境困难，宜遵时养晦，坚守正道，外愚内慧，韬光养晦。\n",
      "\n",
      "上六爻辞上六。濡其首，厉。象曰：濡其首厉，何可久也。白话文解释上六：涉水过河，水拍湿其头部，危险。《象辞》说：水拍湿其头部，怎能呆很久的时间呢？\n",
      "\n",
      "北宋易学家邵雍解凶：得此爻者，小人侵扰，坐船者，防溺水之灾。做官的有过刚则折之忧。\n",
      "\n",
      "台湾国学大儒傅佩荣解时运：好运已过，小心危险。财运：首次买卖，必难获利。家宅：不利长房；元配有灾。身体：头部有疾，危险可知。\n",
      "\n",
      "上六变卦上六爻动变得周易第37卦：风火家人。这个卦是异卦（下离上巽）相叠。离为火；巽为风。火使热气上升，成为风。一切事物皆应以内在为本，然后伸延到外。发生于内，形成于外。喻先治家而后治天下，家道正，天下安乐。\n",
      "\n",
      "\n"
     ]
    }
   ],
   "source": [
    "ichingText(future)"
   ]
  },
  {
   "cell_type": "code",
   "execution_count": 29,
   "metadata": {},
   "outputs": [
    {
     "data": {
      "image/png": "[encoded data removed]",
      "text/plain": [
       "<matplotlib.figure.Figure at 0x10ce4fb90>"
      ]
     },
     "metadata": {},
     "output_type": "display_data"
    }
   ],
   "source": [
    "%matplotlib inline\n",
    "plotTransitionRemainder(10000, w = 50)"
   ]
  },
  {
   "cell_type": "code",
   "execution_count": 31,
   "metadata": {},
   "outputs": [
    {
     "data": {
      "image/png": "[encoded data removed]",
      "text/plain": [
       "<matplotlib.figure.Figure at 0x10c7c34d0>"
      ]
     },
     "metadata": {},
     "output_type": "display_data"
    }
   ],
   "source": [
    "%matplotlib inline\n",
    "import matplotlib.pyplot as plt\n",
    "\n",
    "fig = plt.figure(figsize=(15, 10),facecolor='white')\n",
    "plt.subplot(2, 2, 1)\n",
    "plotTransitionRemainder(1000, w = 50)\n",
    "plt.subplot(2, 2, 2)\n",
    "plotTransitionRemainder(1000, w = 50)\n",
    "plt.subplot(2, 2, 3)\n",
    "plotTransitionRemainder(1000, w = 50)\n",
    "plt.subplot(2, 2, 4)\n",
    "plotTransitionRemainder(1000, w = 50)"
   ]
  },
  {
   "cell_type": "code",
   "execution_count": 48,
   "metadata": {
    "collapsed": true
   },
   "outputs": [],
   "source": [
    "dt = {'111111':u'乾','011111':u'夬','000000':u'坤','010001':u'屯','100010':u'蒙','010111':u'需','111010':u'讼','000010':'师',\n",
    "'010000':u'比','110111':u'小畜','111011':u'履','000111':u'泰','111000':u'否','111101':u'同人','101111':u'大有','000100':u'谦',\n",
    "'001000':u'豫','011001':u'随','100110':u'蛊','000011':u'临','110000':u'观','101001':u'噬嗑','100101':u'贲','100000':'u剥',\n",
    "'000001':u'复','111001':u'无妄','100111':u'大畜','100001':u'颐','011110':u'大过','010010':u'坎','101101':u'离','011100':u'咸',\n",
    "'001110':u'恒','111100':u'遁','001111':u'大壮','101000':u'晋','000101':u'明夷','110101':u'家人','101011':u'睽','010100':u'蹇',\n",
    "'001010':u'解','100011':u'损','110001':u'益','111110':u'姤','011000':u'萃','000110':u'升','011010':u'困','010110':u'井',\n",
    "'011101':u'革','101110':u'鼎','001001':u'震','100100':u'艮','110100':u'渐','001011':u'归妹','001101':u'丰','101100':u'旅',\n",
    "'110110':u'巽','011011':u'兑','110010':u'涣','010011':u'节','110011':u'中孚','001100':u'小过','010101':u'既济','101010':u'未济'\n",
    "      }"
   ]
  },
  {
   "cell_type": "code",
   "execution_count": 50,
   "metadata": {},
   "outputs": [
    {
     "name": "stdout",
     "output_type": "stream",
     "text": [
      "观\n",
      "益\n",
      "家人\n",
      "渐\n",
      "蹇\n",
      "既济\n",
      "小过\n",
      "丰\n",
      "大过\n",
      "夬\n",
      "震\n",
      "豫\n",
      "兑\n",
      "困\n",
      "升\n",
      "泰\n",
      "临\n",
      "师\n",
      "艮\n",
      "贲\n",
      "遁\n",
      "同人\n",
      "蒙\n",
      "损\n",
      "鼎\n",
      "大有\n",
      "无妄\n",
      "否\n",
      "睽\n",
      "未济\n",
      "中孚\n",
      "涣\n",
      "坎\n",
      "节\n",
      "需\n",
      "井\n",
      "巽\n",
      "小畜\n",
      "萃\n",
      "随\n",
      "大壮\n",
      "恒\n",
      "革\n",
      "咸\n",
      "解\n",
      "归妹\n",
      "离\n",
      "坤\n",
      "复\n",
      "大畜\n",
      "蛊\n",
      "明夷\n",
      "谦\n",
      "乾\n",
      "姤\n",
      "颐\n",
      "u剥\n",
      "屯\n",
      "比\n",
      "旅\n",
      "讼\n",
      "履\n",
      "晋\n",
      "噬嗑\n"
     ]
    }
   ],
   "source": [
    "for i in dt.values():\n",
    "    print i"
   ]
  },
  {
   "cell_type": "code",
   "execution_count": 39,
   "metadata": {},
   "outputs": [],
   "source": [
    "dtu = {}\n",
    "for i, j in dt.iteritems():\n",
    "    dtu[i] = unicode(j, 'utf-8')\n",
    "    "
   ]
  },
  {
   "cell_type": "code",
   "execution_count": 44,
   "metadata": {},
   "outputs": [
    {
     "name": "stdout",
     "output_type": "stream",
     "text": [
      "{'110000': u'\\u89c2', '110001': u'\\u76ca', '110101': u'\\u5bb6\\u4eba', '110100': u'\\u6e10', '010100': u'\\u8e47', '010101': u'\\u65e2\\u6d4e', '001100': u'\\u5c0f\\u8fc7', '001101': u'\\u4e30', '011110': u'\\u5927\\u8fc7', '011111': u'\\u592c', '001001': u'\\u9707', '001000': u'\\u8c6b', '011011': u'\\u5151', '011010': u'\\u56f0', '000110': u'\\u5347', '000111': u'\\u6cf0', '000011': u'\\u4e34', '000010': u'\\u5e08', '100100': u'\\u826e', '100101': u'\\u8d32', '111100': u'\\u9041', '111101': u'\\u540c\\u4eba', '100010': u'\\u8499', '100011': u'\\u635f', '101110': u'\\u9f0e', '101111': u'\\u5927\\u6709', '111001': u'\\u65e0\\u5984', '111000': u'\\u5426', '101011': u'\\u777d', '101010': u'\\u672a\\u6d4e', '110011': u'\\u4e2d\\u5b5a', '110010': u'\\u6da3', '010010': u'\\u574e', '010011': u'\\u8282', '010111': u'\\u9700', '010110': u'\\u4e95', '110110': u'\\u5dfd', '110111': u'\\u5c0f\\u755c', '011000': u'\\u8403', '011001': u'\\u968f', '001111': u'\\u5927\\u58ee', '001110': u'\\u6052', '011101': u'\\u9769', '011100': u'\\u54b8', '001010': u'\\u89e3', '001011': u'\\u5f52\\u59b9', '000000': u'\\u5764', '101101': u'\\u79bb', '000001': u'\\u590d', '100111': u'\\u5927\\u755c', '100110': u'\\u86ca', '000101': u'\\u660e\\u5937', '000100': u'\\u8c26', '111111': u'\\u4e7e', '111110': u'\\u59e4', '100001': u'\\u9890', '100000': u'\\u5265', '010001': u'\\u5c6f', '010000': u'\\u6bd4', '101100': u'\\u65c5', '111010': u'\\u8bbc', '111011': u'\\u5c65', '101000': u'\\u664b', '101001': u'\\u566c\\u55d1'}\n"
     ]
    }
   ],
   "source": [
    "def ichingDate(d):\n",
    "    import random\n",
    "    random.seed(d)\n",
    "    try:\n",
    "        print 'Your birthday & your prediction time:', str(d)\n",
    "    except:\n",
    "        print('Your birthday & your prediction time:', str(d))\n",
    "    "
   ]
  }
 ],
 "metadata": {
  "kernelspec": {
   "display_name": "Python 3 (ipykernel)",
   "language": "python",
   "name": "python3"
  },
  "language_info": {
   "codemirror_mode": {
    "name": "ipython",
    "version": 3
   },
   "file_extension": ".py",
   "mimetype": "text/x-python",
   "name": "python",
   "nbconvert_exporter": "python",
   "pygments_lexer": "ipython3",
   "version": "3.9.7"
  },
  "toc": {
   "base_numbering": 1,
   "nav_menu": {},
   "number_sections": false,
   "sideBar": true,
   "skip_h1_title": false,
   "title_cell": "Table of Contents",
   "title_sidebar": "Contents",
   "toc_cell": false,
   "toc_position": {},
   "toc_section_display": true,
   "toc_window_display": true
  }
 },
 "nbformat": 4,
 "nbformat_minor": 1
}
