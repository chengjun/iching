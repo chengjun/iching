{
 "cells": [
  {
   "cell_type": "markdown",
   "metadata": {},
   "source": [
    "# 每日运势"
   ]
  },
  {
   "cell_type": "code",
   "execution_count": 1,
   "metadata": {
    "ExecuteTime": {
     "end_time": "2023-10-20T09:20:26.709941Z",
     "start_time": "2023-10-20T09:20:26.129855Z"
    }
   },
   "outputs": [],
   "source": [
    "from iching import iching\n"
   ]
  },
  {
   "cell_type": "code",
   "execution_count": 2,
   "metadata": {
    "ExecuteTime": {
     "end_time": "2023-10-20T09:20:28.109239Z",
     "start_time": "2023-10-20T09:20:27.921915Z"
    }
   },
   "outputs": [
    {
     "name": "stdout",
     "output_type": "stream",
     "text": [
      "Your birthday & your prediction time:  1985052620231020\n",
      "there is a changing predict! Also run changePredict()\n",
      "there is a changing predict! Also run changePredict()\n",
      "there is a changing predict! Also run changePredict()\n",
      "既济 & 坤 \n",
      " 本卦:  既济卦原文既济。亨，小利贞，初吉终乱。象曰：水在火上，既济。君子以思患而预防之。白话文解释既济卦：亨通。这是小见吉利的贞卜。起初吉利，最后将发生变故。《象辞》说：本卦上卦为坎，坎为水；下卦为离，离为火。水上火下，水浇火熄，是既济之卦的卦象。君子观此卦象，从而有备于无患之时，防范于未然之际。\n",
      "\n",
      "《断易天机》解既济卦坎上离下，为坎宫三世卦。既济就是说已经成功，事情已经摆平。但还需谨慎，当心物极必反。\n",
      "\n",
      "北宋易学家邵雍解济助有成，坚忍自重；由大而小，确保盛运。得此卦者，事业有成，成功之象，但谨防盛极必衰，宜退守为吉，再进则凶。\n",
      "\n",
      "台湾国学大儒傅佩荣解时运：盛极必衰，谨防后患。财运：及时出手，可得利润。家宅：大厦可居；百年好合。身体：大病初愈，仍需自理。\n",
      "\n",
      "传统解卦这个卦是异卦（下离上坎）相叠。坎为水，离为火，水火相交，水在火上，水势压倒火势，救火大功告成。既，已经；济，成也。既济就是事情已经成功，但终将发生变故。大象：坎水在离火之上，水性下注，火势上炎，水火相济，完成之意。运势：名利双收，成功之象，但须防物极必反，初吉后凶。事业：处在顺利和兴旺的阶段，甚至大功已经告成。如何才能保住这种势头，是问题的关键。必须认识盛极将衰的真理，思患预防，防微杜渐，有备可无患。同时，一定要密切注意形势，抓住有利时机，继续奋发向上，推动事业发展。经商：由于市场形势有利，已经赚得许多，但同时也预示着危机的随时出现。因此，务必小心在意，事未到，先预防，终日提防戒惧。同时，认真观察市场的变化，随时转向，开拓新市场。求名：个人追求名利的基本条件已经具备。必须防止因此而变得僵化和保守，以致功亏一篑，半途而废。婚恋：起初顺利，中途会出现挫折。决策：各方面条件都很好，环境又有利于成长。但因此反而会使自己满足，停止前进，甚至变得颓废，趋向没落。一定要不断刻苦努力，保持谦虚美德，常怀不安之心，防止不测事件发生。\n",
      "\n",
      "台湾张铭仁解卦既济：表示水火阴阳调和，一时平安和乐之象。水火本相克，因一时环境或人事所影响，而暂时相安无事，但终非常久之象，必有所冲克而败。解释：已经得到利益，不可贪得无厌。特性：物质丰盛，但精神易空虚，外华内虚，交际广，知心少，心思细腻，多愁善感，喜宁静的生活。运势：功名双收。极盛之时，但须知物极必反，宜退守为吉，再进则凶。但得此卦者，皆有因一时顺利而忘本，大意失荆州，终有人不和、心迷乱之象。家运：生在富家之象，受祖上恩泽而不知珍惜者多，终而破运之兆。疾病：短期虽有好转，但好景不常。胎孕：不安。子女：初时幸福，长大后与双亲不和，慎之。周转：短期可成，长期无望。买卖：中途变卦不利。故初时见好就收，莫贪心拖延，否则不利。等人：已中途折回，不必再等。寻人：若是常出走之人，小时自回，长大再出走，难寻。甚或不回。失物：应可寻回。外出：利于出行，途中需注意安全。考试：实力有，但需视考期之日吉凶而定，小吉。诉讼：有理说不清，仍须把握最有利时机争取主动，迟则反见凶。求事：紧急可，不宜长久。改行：不宜。开业：开业者最好慎重​​考虑，因此卦象好景不常。\n",
      "\n",
      "初九爻辞初九。曳其轮，濡其尾，无咎。象曰：曳其轮，义无咎也。白话文解释初九：提着腰带过河，打湿了衣尾。没有大问题。《象辞》说：提着腰带过河，打湿了衣尾，理应无灾难。\n",
      "\n",
      "北宋易学家邵雍解平：得此爻者，时运未到，欲动未动，安保无虞。做官的有职未受，有位未登。\n",
      "\n",
      "台湾国学大儒傅佩荣解时运：奋勉有加，可以无咎。财运：暂时稳住，将可脱困。家宅：可以安居；初聘为吉。身体：初病可治。\n",
      "\n",
      "初九变卦初九爻动变得周易第39卦：水山蹇。这个卦是异卦（下艮上坎）相叠。坎为水，艮为山。山高水深，困难重重，人生险阻，见险而止，明哲保身，可谓智慧。蹇，跋行艰难。\n",
      "\n",
      "六二爻辞六二。妇丧其茀，勿逐，七日得。象曰：七日得，以中道也。白话文解释六二：妇人丢失了头巾，不用寻找，七日内可以不寻而得。《象辞》说：七日内可以不寻而得，因为六二阴爻居阴位，位象既得，失物将还。\n",
      "\n",
      "北宋易学家邵雍解平：得此爻者，先难后易，做官的有先逆后顺之美。\n",
      "\n",
      "台湾国学大儒傅佩荣解时运：不计小利，得成大功。财运：失而复得，不必担心。家宅：七年可还；将可团聚。身体：七日可愈。\n",
      "\n",
      "六二变卦六二爻动变得周易第5卦：水天需。这个卦是异卦（下乾上坎）相叠，下卦是乾，刚健之意；上卦是坎，险陷之意。以刚逢险，宜稳健之妥，不可冒失行动，观时待变，所往一定成功。\n",
      "\n",
      "九三爻辞九三。高宗伐鬼方，三年克之。小人勿用。象曰：三年克之，惫也。白话文解释九三：高宗讨伐鬼方，费时三年才打败它。筮遇此爻，不可重用小人。《象辞》说：费时三年才打败它，因为鬼方这时已疲惫不堪。\n",
      "\n",
      "北宋易学家邵雍解凶：得此爻者，有结怨争诉之损。做官的多差遣征伐之举。\n",
      "\n",
      "台湾国学大儒傅佩荣解时运：努力工作，所谋必成。财运：数年经营，才可获利。家宅：三年后居；三年可婚。身体：一时无恙，只保三年。\n",
      "\n",
      "九三变卦九三爻动变得周易第3卦：水雷屯。这个卦是异卦（下震上坎）相叠，震为雷，喻动；坎为雨，喻险。雷雨交加，险象丛生，环境恶劣。“屯”原指植物萌生大地，万物始生，充满艰难险阻，然而顺时应运，必欣欣向荣。\n",
      "\n",
      "六四爻辞六四。繻有衣袽，终日戒。象曰：终日戒，有所疑也。白话文解释六四：撑着用败絮塞罅漏的船，整日里提心吊胆。《象辞》说：整日里提心吊胆，说明心中疑虑重重。\n",
      "\n",
      "北宋易学家邵雍解平：得此爻者，时运平平，有备则无患。做官的须做好预防，则爵禄稳固。\n",
      "\n",
      "台湾国学大儒傅佩荣解时运：处顺思困，谨慎为宜。财运：经营漏洞，早些修补。家宅：修正屋宇；珍惜情谊。身体：年老体弱。\n",
      "\n",
      "六四变卦六四爻动变得周易第49卦：泽火革。这个卦是异卦（下离上兑）相叠。离为火、兑为泽，泽内有水。水在上而下浇，火在下而上升。火旺水干，水大火熄。二者相生亦相克，必然出现变革。变革是宇宙的基本规律。\n",
      "\n",
      "九五爻辞九五。东邻杀牛，不如西郊之禴祭，实受其福。象曰：东邻杀牛，不如西邻之时也。实受其福，吉大来也。白话文解释九五：殷人杀牛厚祭鬼神，不如周人簿祭鬼神，周人倒是得到鬼神的福佑。《象辞》说：殷人杀牛厚祭鬼神，不如周人薄祭鬼神的用意美善，周人得到鬼神的福佑，将有重大的吉庆降临。\n",
      "\n",
      "北宋易学家邵雍解吉：得此爻者，近谋有实，远谋多虚，不利东方，利于西方。\n",
      "\n",
      "台湾国学大儒傅佩荣解时运：持盈保泰，吉凶自取。财运：奢不如俭，实获其利。家宅：向西吉宅；两邻订亲。身体：最好祷告。\n",
      "\n",
      "九五变卦九五爻动变得周易第36卦：地火明夷。这个卦是异卦（下离上坤）相叠。离为明，坤为顺；离为日；坤为地。日没入地，光明受损，前途不明，环境困难，宜遵时养晦，坚守正道，外愚内慧，韬光养晦。\n",
      "\n",
      "上六爻辞上六。濡其首，厉。象曰：濡其首厉，何可久也。白话文解释上六：涉水过河，水拍湿其头部，危险。《象辞》说：水拍湿其头部，怎能呆很久的时间呢？\n",
      "\n",
      "北宋易学家邵雍解凶：得此爻者，小人侵扰，坐船者，防溺水之灾。做官的有过刚则折之忧。\n",
      "\n",
      "台湾国学大儒傅佩荣解时运：好运已过，小心危险。财运：首次买卖，必难获利。家宅：不利长房；元配有灾。身体：头部有疾，危险可知。\n",
      "\n",
      "上六变卦上六爻动变得周易第37卦：风火家人。这个卦是异卦（下离上巽）相叠。离为火；巽为风。火使热气上升，成为风。一切事物皆应以内在为本，然后伸延到外。发生于内，形成于外。喻先治家而后治天下，家道正，天下安乐。\n",
      "\n",
      " \n",
      "                (O--__/\\__--O) \n",
      "(-------------(O---- |__|----O)----------------) \n",
      "(-----------(O-----/-|__|-\\------O)------------) \n",
      "         (-------(O-/_--_\\-O)-------) \n",
      "\n",
      "\n",
      " 变卦:  坤卦原文坤。元，亨，利牝马之贞。君子有攸往，先迷后得主。利西南得朋，东北丧朋。安贞，吉。象曰：地势坤，君子以厚德载物。白话文解释坤卦：大吉大利。占问雌马得到吉兆。君子前去旅行，先迷失路途，后来找到主人，吉利。西南行获得财物，东北行丧失财物。占问定居，得到吉兆。《象辞》说：大地的形势平铺舒展，顺承天道。君子观此卦象，取法于地，以深厚的德行来承担重大的责任。\n",
      "\n",
      "《断易天机》解坤卦坤上坤下，为坤宫本位卦。坤卦为柔顺，为地气舒展之象，具有纯阴之性，先失道而后得主，宜往西南，西南可得到朋友。\n",
      "\n",
      "北宋易学家邵雍解柔顺和静，厚载之功；静守安顺，妄动招损。得此卦者，宜顺从运势，以静制动，不宜独立谋事，顺从他人，一起合作，可成大事。\n",
      "\n",
      "台湾国学大儒傅佩荣解时运：为人厚道，声名远传。财运：满载而归。家宅：家庭安稳；婚嫁大吉。身体：柔软运动。\n",
      "\n",
      "传统解卦这个卦是同卦（下坤上坤）相叠，阴性。象征地（与乾卦相反），顺从天，承载万物，伸展无穷无尽。坤卦以雌马为象征，表明地道生育抚养万物，而又依天顺时，性情温顺。它以“先迷后得”证明“坤”顺从“乾”，依随“乾”，才能把握正确方向，遵循正道，获取吉利。大象：大地承载万物，以德服众，仁者无敌。运势：诸事不宜急进，以静制动为宜。事业：诸项事业可以成功，得到预想的结果，但开始出师不利，为困境所扰。切莫冒险急进，须小心谨言慎行，尤其不可单枪匹马，独断专行。取得朋友的关心和支持最为重要，在他人的合作下，共同完成事业。因此，应注重内心修养，积蓄养德，效法大地，容忍负重，宽厚大度，以直率、方正、含蓄为原则，不得贪功自傲，持之以恒，谋求事业的成功。经商：机遇不很好，切莫冒险，以稳健为妥，遇到挫折，务必即时总结经验。注意储存货物，待价而沽，处处小心为是。求名：比较顺利，具备基本条件，踏踏实实，埋头苦干，不追求身外之物，即可吉祥。婚恋：阴盛。以柔克刚，女方柔顺，美好姻缘，白头到老。决策：忠厚、温和，待人真诚，热心助人，因此也能得到他人的帮助，可往往因不提防小人而受到伤害，但无大碍。性格灵活，工作方法多样，可以左右逢源，得到赞许。\n",
      "\n",
      "台湾张铭仁解卦地：表示大地为母，天生之母性也。六冲纯卦，主大好大坏之卦象。优点：如母亲般地柔顺、牺牲、付出，有事事和顺之意。缺点：过于委缺求全，没有了自己的想法和观念。此卦论感情，有前世因缘的影响，自己就有如母亲​​大姊般地照顾对方，无怨无悔，会很辛苦、多劳累。事业，适合当任副手之职位，忌任主事者，容易软弱难成事。解释：在母胎里孕育中，不宜创业。特性：为人较为保守，善于计划与研究工作，适合任辅佐幕僚之职，做人朴实，人缘佳，大好人型，男性桃花多，女性则爱情专一。运势：诸事不宜急进，退守以静制动者吉。坤者大地平静，任其他物所摧而不为所动者大利也。若醉心私欲，违背常理，则有无妄之灾。家运：幸福平静之象。疾病：病情严重，为腹、肠胃、肌肉等慢性病（腹疾、脾胃之疾、饮食停滞，从而食不化）。胎孕：生贵子，女儿亦为福。子女：儿女众多，和睦幸福也。周转：须耐心去求，否则难成。买卖：勿急，交易可成。等人：不会来，须再待些时日。寻人：此人为色情之事出走，于西南方附近之地也。失物：难以寻回，大部分均不知下落。外出：宜结伴而行。可去陌生的地方。考试：希望不大。诉讼：防房地产之争，宜和解，有始无终之兆。求事：不称意亦不理想，另寻。改行：改行不利，宜固守本份。开业：开业者再观望，目前尚未筹备妥当，不宜。\n",
      "\n",
      "初六爻辞初六。履霜，坚冰至。象曰：履霜坚冰，阴始凝也。驯致其道，至坚冰也。白话文解释初六：践踏着薄霜，可以推断坚厚的冰层快要冻结成了。《象辞》说：践踏着薄霜，可以推断坚厚的冰层快要冻结成了。这表明阴冷之气开始凝聚了，遵循自然规律的推进，坚厚的冰层快要冻结而成了。\n",
      "\n",
      "北宋易学家邵雍解平：得此爻者，宜谨防仇怨引起的纠纷。阴气盛的人则会大兴家业。做官的要谨防小人的谗言而生祸。\n",
      "\n",
      "台湾国学大儒傅佩荣解时运：由卑而尊，不可躁进。财运：渐积可致富。家宅：阴盛不吉；婚嫁不利。身体：阴寒之症，久则难治。\n",
      "\n",
      "初六变卦初六爻动变得周易第24卦：地雷复。这个卦是异卦（下震上坤）相叠。震为雷、为动；坤为地、为顺，动则顺，顺其自然。动在顺中，内阳外阴，循序运动，进退自如，利于前进。\n",
      "\n",
      "六二爻辞六二。直，方，大，不习无不利。象曰：六二之动，直以方也；不习无不利，地道光也。白话文解释六二：平直、方正、辽阔是大地的特点。即使前往陌生的地方，也没有什么不利的。《象辞》说：六二的爻象是平直而且方正，即使前往陌生的地方，也没有什么不利的，因为地道是广大无边的。\n",
      "\n",
      "北宋易学家邵雍解吉：得此爻者，会不愁吃喝，衣食无忧。做官的会升迁，身居高位。女命则为贤良起家。\n",
      "\n",
      "台湾国学大儒傅佩荣解时运：功可成，名可就。财运：获利可期。家宅：居家如意；婚嫁顺利。身体：不药而愈。\n",
      "\n",
      "六二变卦六二爻动变得周易第7卦：地水师。这个卦是异卦（下坎上坤）相叠。“师”指军队。坎为水、为险；坤为地、为顺，喻寓兵于农。兵凶战危，用兵乃圣人不得已而为之，但它可以顺利无阻碍地解决矛盾，因为顺乎形势，师出有名，故能化凶为吉。\n",
      "\n",
      "六三爻辞六三。含章可贞。或从王事，无成有终。象曰：含章可贞，以时发也；或从王事，知光大也。白话文解释六三：战胜殷商。称心的占卜。有人服役于战争，没有取得战绩，但结局还是好的。《象辞》说：战胜殷商，称心的占卜，说明能抓住时机采取行动。有人服役于战争（没有取得战绩而有好的结局），因为他才智广大。\n",
      "\n",
      "北宋易学家邵雍解平：得此爻者，谋望可成，认真经营会有收获。做官的会有升迁的希望。女命则为德妇。\n",
      "\n",
      "台湾国学大儒傅佩荣解时运：待时而发，可保功名。财运：把握时机，必有利益。家宅：凝聚向心力。身体：无可挽回，凶。\n",
      "\n",
      "六三变卦六三爻动变得周易第15卦：地山谦。这个卦是异卦（下艮上坤）相叠，艮为山，坤为地。地面有山，地卑（低）而山高，是为内高外低，比喻功高不自居，名高不自誉，位高不自傲。这就是谦。\n",
      "\n",
      "六四爻辞六四。括囊，无咎，无誉。象曰：括囊无咎，慎不害也。白话文解释六四：扎紧了口袋，如缄口不言，没有指责，也没有赞誉。《象辞》说：扎紧了口袋，如缄口不言，是说谨慎才没有祸害。\n",
      "\n",
      "北宋易学家邵雍解平：得此爻者，经营受阻，大凡谨慎收敛者，则无横来之祸。做官的要谨守常职，可望升迁。女命则贤而起家。\n",
      "\n",
      "台湾国学大儒傅佩荣解时运：收敛为要，但求无过。财运：落袋为安，不再投资。家宅：平安是福。身体：谨慎保养。\n",
      "\n",
      "六四变卦六四爻动变得周易第16卦：雷地豫。这个卦是异卦（下坤上震）相叠，坤为地，为顺；震为雷，为动。雷依时出，预示大地回春。因顺而动，和乐之源。此卦与谦卦互为综卦，交互作用。\n",
      "\n",
      "六五爻辞六五。黄裳，元吉。象曰：黄裳元吉，文在中也。白话文解释六五：黄色的裙裤，大吉大利。《象辞》说：黄色的裙裤大吉大利，因为“黄裳”象征着人内在的美德。\n",
      "\n",
      "北宋易学家邵雍解吉：得此爻者，将会获得财利，事事安稳，没有灾难。做官的将会升迁，飞黄腾达。女命则为德妇，贤惠之人。\n",
      "\n",
      "台湾国学大儒傅佩荣解时运：功名大显。财运：必定获利。家宅：和乐融融。身体：病在肠胃。\n",
      "\n",
      "六五变卦六五爻动变得周易第8卦：水地比。这个卦是异卦（下坤上坎）相叠，坤为地，坎为水。水附大地，地纳河海，相互依赖，亲密无间。此卦与师卦完全相反，互为综卦。它阐述的是相亲相辅，宽宏无私，精诚团结的道理。\n",
      "\n",
      "上六爻辞上六。龙战于野，其血玄黄。象曰：龙战于野，其道穷也。白话文解释上六：龙在大地上争斗，血流遍野。《象辞》说：龙在大地上争斗，比喻人走到了穷困的绝境。\n",
      "\n",
      "北宋易学家邵雍解凶：得此爻者，有竞争的困扰，会有大的损失。做官的会有被贬之祸。\n",
      "\n",
      "台湾国学大儒傅佩荣解时运：穷途末路。财运：血本无归。家宅：失序不和。身体：肝血失调，危险。\n",
      "\n",
      "上六变卦上六爻动变得周易第23卦：山地剥。这个卦是异卦（下坤上艮）相叠。五阴在下，一阳在上，阴盛而阳孤；高山附于地。二者都是剥落象，故为“剥卦”。此卦阴盛阳衰，喻小人得势，君子困顿，事业败坏。\n",
      "\n",
      "\n"
     ]
    },
    {
     "data": {
      "image/png": "[encoded data removed]",
      "text/plain": [
       "<Figure size 432x288 with 1 Axes>"
      ]
     },
     "metadata": {
      "needs_background": "light"
     },
     "output_type": "display_data"
    }
   ],
   "source": [
    "iching.predict(19850526, 20231020)"
   ]
  }
 ],
 "metadata": {
  "kernelspec": {
   "display_name": "Python 3 (ipykernel)",
   "language": "python",
   "name": "python3"
  },
  "language_info": {
   "codemirror_mode": {
    "name": "ipython",
    "version": 3
   },
   "file_extension": ".py",
   "mimetype": "text/x-python",
   "name": "python",
   "nbconvert_exporter": "python",
   "pygments_lexer": "ipython3",
   "version": "3.9.7"
  },
  "toc": {
   "base_numbering": 1,
   "nav_menu": {},
   "number_sections": false,
   "sideBar": true,
   "skip_h1_title": false,
   "title_cell": "Table of Contents",
   "title_sidebar": "Contents",
   "toc_cell": false,
   "toc_position": {},
   "toc_section_display": true,
   "toc_window_display": false
  }
 },
 "nbformat": 4,
 "nbformat_minor": 1
}
